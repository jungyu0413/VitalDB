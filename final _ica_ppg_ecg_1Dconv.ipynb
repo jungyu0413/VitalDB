{
 "cells": [
  {
   "cell_type": "code",
   "execution_count": 1,
   "metadata": {},
   "outputs": [],
   "source": [
    "import pandas as pd\n",
    "import numpy as np\n",
    "import matplotlib.pyplot as plt\n",
    "import torch"
   ]
  },
  {
   "cell_type": "markdown",
   "metadata": {},
   "source": [
    "### Data Load"
   ]
  },
  {
   "cell_type": "markdown",
   "metadata": {},
   "source": [
    "* ppg"
   ]
  },
  {
   "cell_type": "code",
   "execution_count": 2,
   "metadata": {},
   "outputs": [],
   "source": [
    "ppg_signal_5 = np.load('workspace/new_test_data/ica_ppg_5.npy') # 5 min ppg"
   ]
  },
  {
   "cell_type": "code",
   "execution_count": 3,
   "metadata": {},
   "outputs": [
    {
     "data": {
      "text/plain": [
       "1200"
      ]
     },
     "execution_count": 3,
     "metadata": {},
     "output_type": "execute_result"
    }
   ],
   "source": [
    "len(ppg_signal_5)"
   ]
  },
  {
   "cell_type": "code",
   "execution_count": 4,
   "metadata": {},
   "outputs": [],
   "source": [
    "ecg_signal_5 = np.load('workspace/new_test_data/ica_ecg_5.npy') # 5 min ecg"
   ]
  },
  {
   "cell_type": "code",
   "execution_count": 5,
   "metadata": {},
   "outputs": [
    {
     "data": {
      "text/plain": [
       "1200"
      ]
     },
     "execution_count": 5,
     "metadata": {},
     "output_type": "execute_result"
    }
   ],
   "source": [
    "len(ecg_signal_5)"
   ]
  },
  {
   "cell_type": "markdown",
   "metadata": {},
   "source": [
    "* ecg"
   ]
  },
  {
   "cell_type": "code",
   "execution_count": 6,
   "metadata": {},
   "outputs": [],
   "source": [
    "ecg_lb = np.load('workspace/new_test_data/ica_lb.npy')"
   ]
  },
  {
   "cell_type": "code",
   "execution_count": 7,
   "metadata": {},
   "outputs": [],
   "source": [
    "ppg_id = np.load('/workspace/new_test_data/ica_id.npy')"
   ]
  },
  {
   "cell_type": "code",
   "execution_count": 8,
   "metadata": {},
   "outputs": [
    {
     "data": {
      "text/plain": [
       "1200"
      ]
     },
     "execution_count": 8,
     "metadata": {},
     "output_type": "execute_result"
    }
   ],
   "source": [
    "len(ppg_id)"
   ]
  },
  {
   "cell_type": "code",
   "execution_count": 9,
   "metadata": {},
   "outputs": [],
   "source": [
    "ecg_id = np.load('/workspace/new_test_data/ica_id.npy')"
   ]
  },
  {
   "cell_type": "markdown",
   "metadata": {},
   "source": [
    "* Qualitu Index"
   ]
  },
  {
   "cell_type": "code",
   "execution_count": null,
   "metadata": {},
   "outputs": [],
   "source": []
  },
  {
   "cell_type": "code",
   "execution_count": null,
   "metadata": {},
   "outputs": [],
   "source": []
  },
  {
   "cell_type": "markdown",
   "metadata": {},
   "source": [
    "* ppg dataframe"
   ]
  },
  {
   "cell_type": "code",
   "execution_count": 10,
   "metadata": {},
   "outputs": [],
   "source": [
    "df_ppg = pd.DataFrame(list(ppg_signal_5))"
   ]
  },
  {
   "cell_type": "code",
   "execution_count": 11,
   "metadata": {},
   "outputs": [],
   "source": [
    "df_ppg['caseid'] = list(ppg_id)"
   ]
  },
  {
   "cell_type": "code",
   "execution_count": 12,
   "metadata": {},
   "outputs": [],
   "source": [
    "ppg_lb = np.load('/workspace/new_test_data/ica_lb.npy')"
   ]
  },
  {
   "cell_type": "code",
   "execution_count": 13,
   "metadata": {},
   "outputs": [],
   "source": [
    "df_ppg['label'] = list(ppg_lb)"
   ]
  },
  {
   "cell_type": "code",
   "execution_count": 14,
   "metadata": {},
   "outputs": [],
   "source": [
    "df_ppg = df_ppg.dropna()"
   ]
  },
  {
   "cell_type": "code",
   "execution_count": 16,
   "metadata": {},
   "outputs": [
    {
     "data": {
      "text/html": [
       "<div>\n",
       "<style scoped>\n",
       "    .dataframe tbody tr th:only-of-type {\n",
       "        vertical-align: middle;\n",
       "    }\n",
       "\n",
       "    .dataframe tbody tr th {\n",
       "        vertical-align: top;\n",
       "    }\n",
       "\n",
       "    .dataframe thead th {\n",
       "        text-align: right;\n",
       "    }\n",
       "</style>\n",
       "<table border=\"1\" class=\"dataframe\">\n",
       "  <thead>\n",
       "    <tr style=\"text-align: right;\">\n",
       "      <th></th>\n",
       "      <th>0</th>\n",
       "      <th>1</th>\n",
       "      <th>2</th>\n",
       "      <th>3</th>\n",
       "      <th>4</th>\n",
       "      <th>5</th>\n",
       "      <th>6</th>\n",
       "      <th>7</th>\n",
       "      <th>8</th>\n",
       "      <th>9</th>\n",
       "      <th>...</th>\n",
       "      <th>292</th>\n",
       "      <th>293</th>\n",
       "      <th>294</th>\n",
       "      <th>295</th>\n",
       "      <th>296</th>\n",
       "      <th>297</th>\n",
       "      <th>298</th>\n",
       "      <th>299</th>\n",
       "      <th>caseid</th>\n",
       "      <th>label</th>\n",
       "    </tr>\n",
       "  </thead>\n",
       "  <tbody>\n",
       "    <tr>\n",
       "      <th>0</th>\n",
       "      <td>62.438301</td>\n",
       "      <td>62.043301</td>\n",
       "      <td>62.438301</td>\n",
       "      <td>61.648300</td>\n",
       "      <td>61.253300</td>\n",
       "      <td>60.463299</td>\n",
       "      <td>59.278400</td>\n",
       "      <td>57.303501</td>\n",
       "      <td>56.513500</td>\n",
       "      <td>54.933601</td>\n",
       "      <td>...</td>\n",
       "      <td>39.529301</td>\n",
       "      <td>38.344299</td>\n",
       "      <td>37.949299</td>\n",
       "      <td>37.159401</td>\n",
       "      <td>36.369400</td>\n",
       "      <td>35.579399</td>\n",
       "      <td>34.789501</td>\n",
       "      <td>33.999500</td>\n",
       "      <td>1.0</td>\n",
       "      <td>-1.0</td>\n",
       "    </tr>\n",
       "    <tr>\n",
       "      <th>1</th>\n",
       "      <td>39.924198</td>\n",
       "      <td>42.689098</td>\n",
       "      <td>44.664001</td>\n",
       "      <td>46.638901</td>\n",
       "      <td>49.008801</td>\n",
       "      <td>50.193802</td>\n",
       "      <td>51.773701</td>\n",
       "      <td>53.353699</td>\n",
       "      <td>54.143600</td>\n",
       "      <td>54.933601</td>\n",
       "      <td>...</td>\n",
       "      <td>54.143600</td>\n",
       "      <td>55.328602</td>\n",
       "      <td>56.118500</td>\n",
       "      <td>56.513500</td>\n",
       "      <td>56.118500</td>\n",
       "      <td>56.908501</td>\n",
       "      <td>56.908501</td>\n",
       "      <td>56.908501</td>\n",
       "      <td>1.0</td>\n",
       "      <td>-1.0</td>\n",
       "    </tr>\n",
       "    <tr>\n",
       "      <th>2</th>\n",
       "      <td>23.334999</td>\n",
       "      <td>23.729900</td>\n",
       "      <td>24.519899</td>\n",
       "      <td>25.309900</td>\n",
       "      <td>26.494801</td>\n",
       "      <td>28.074800</td>\n",
       "      <td>30.444599</td>\n",
       "      <td>32.814499</td>\n",
       "      <td>35.579399</td>\n",
       "      <td>37.949299</td>\n",
       "      <td>...</td>\n",
       "      <td>52.168701</td>\n",
       "      <td>52.958698</td>\n",
       "      <td>54.933601</td>\n",
       "      <td>56.513500</td>\n",
       "      <td>56.908501</td>\n",
       "      <td>57.303501</td>\n",
       "      <td>58.093399</td>\n",
       "      <td>58.093399</td>\n",
       "      <td>1.0</td>\n",
       "      <td>0.0</td>\n",
       "    </tr>\n",
       "    <tr>\n",
       "      <th>3</th>\n",
       "      <td>57.698502</td>\n",
       "      <td>57.303501</td>\n",
       "      <td>55.723499</td>\n",
       "      <td>54.538601</td>\n",
       "      <td>53.353699</td>\n",
       "      <td>51.773701</td>\n",
       "      <td>49.798801</td>\n",
       "      <td>47.823898</td>\n",
       "      <td>45.453999</td>\n",
       "      <td>43.874100</td>\n",
       "      <td>...</td>\n",
       "      <td>60.463299</td>\n",
       "      <td>59.673401</td>\n",
       "      <td>59.278400</td>\n",
       "      <td>57.698502</td>\n",
       "      <td>56.908501</td>\n",
       "      <td>55.328602</td>\n",
       "      <td>53.748600</td>\n",
       "      <td>51.378700</td>\n",
       "      <td>4.0</td>\n",
       "      <td>0.0</td>\n",
       "    </tr>\n",
       "    <tr>\n",
       "      <th>4</th>\n",
       "      <td>26.494801</td>\n",
       "      <td>28.074800</td>\n",
       "      <td>30.049700</td>\n",
       "      <td>32.024601</td>\n",
       "      <td>34.394501</td>\n",
       "      <td>37.159401</td>\n",
       "      <td>40.319199</td>\n",
       "      <td>43.479099</td>\n",
       "      <td>47.033901</td>\n",
       "      <td>50.193802</td>\n",
       "      <td>...</td>\n",
       "      <td>56.118500</td>\n",
       "      <td>55.328602</td>\n",
       "      <td>54.143600</td>\n",
       "      <td>52.563702</td>\n",
       "      <td>51.378700</td>\n",
       "      <td>50.193802</td>\n",
       "      <td>47.823898</td>\n",
       "      <td>45.453999</td>\n",
       "      <td>4.0</td>\n",
       "      <td>0.0</td>\n",
       "    </tr>\n",
       "    <tr>\n",
       "      <th>...</th>\n",
       "      <td>...</td>\n",
       "      <td>...</td>\n",
       "      <td>...</td>\n",
       "      <td>...</td>\n",
       "      <td>...</td>\n",
       "      <td>...</td>\n",
       "      <td>...</td>\n",
       "      <td>...</td>\n",
       "      <td>...</td>\n",
       "      <td>...</td>\n",
       "      <td>...</td>\n",
       "      <td>...</td>\n",
       "      <td>...</td>\n",
       "      <td>...</td>\n",
       "      <td>...</td>\n",
       "      <td>...</td>\n",
       "      <td>...</td>\n",
       "      <td>...</td>\n",
       "      <td>...</td>\n",
       "      <td>...</td>\n",
       "      <td>...</td>\n",
       "    </tr>\n",
       "    <tr>\n",
       "      <th>1195</th>\n",
       "      <td>43.874100</td>\n",
       "      <td>43.084099</td>\n",
       "      <td>42.689098</td>\n",
       "      <td>41.899200</td>\n",
       "      <td>41.504200</td>\n",
       "      <td>40.714199</td>\n",
       "      <td>40.319199</td>\n",
       "      <td>39.924198</td>\n",
       "      <td>39.529301</td>\n",
       "      <td>39.529301</td>\n",
       "      <td>...</td>\n",
       "      <td>39.924198</td>\n",
       "      <td>39.924198</td>\n",
       "      <td>39.924198</td>\n",
       "      <td>39.529301</td>\n",
       "      <td>39.529301</td>\n",
       "      <td>39.134300</td>\n",
       "      <td>38.739300</td>\n",
       "      <td>38.739300</td>\n",
       "      <td>742.0</td>\n",
       "      <td>0.0</td>\n",
       "    </tr>\n",
       "    <tr>\n",
       "      <th>1196</th>\n",
       "      <td>41.504200</td>\n",
       "      <td>41.109200</td>\n",
       "      <td>41.109200</td>\n",
       "      <td>40.714199</td>\n",
       "      <td>40.319199</td>\n",
       "      <td>39.924198</td>\n",
       "      <td>39.134300</td>\n",
       "      <td>39.134300</td>\n",
       "      <td>38.739300</td>\n",
       "      <td>38.344299</td>\n",
       "      <td>...</td>\n",
       "      <td>37.159401</td>\n",
       "      <td>37.159401</td>\n",
       "      <td>37.159401</td>\n",
       "      <td>37.159401</td>\n",
       "      <td>37.159401</td>\n",
       "      <td>37.159401</td>\n",
       "      <td>37.159401</td>\n",
       "      <td>37.159401</td>\n",
       "      <td>743.0</td>\n",
       "      <td>0.0</td>\n",
       "    </tr>\n",
       "    <tr>\n",
       "      <th>1197</th>\n",
       "      <td>-1.153980</td>\n",
       "      <td>-1.153980</td>\n",
       "      <td>-1.153980</td>\n",
       "      <td>-1.153980</td>\n",
       "      <td>-1.153980</td>\n",
       "      <td>-1.153980</td>\n",
       "      <td>-1.548960</td>\n",
       "      <td>-1.153980</td>\n",
       "      <td>-1.548960</td>\n",
       "      <td>-1.153980</td>\n",
       "      <td>...</td>\n",
       "      <td>-1.153980</td>\n",
       "      <td>-1.153980</td>\n",
       "      <td>-0.758994</td>\n",
       "      <td>-1.153980</td>\n",
       "      <td>-1.153980</td>\n",
       "      <td>-1.548960</td>\n",
       "      <td>-1.153980</td>\n",
       "      <td>-1.153980</td>\n",
       "      <td>743.0</td>\n",
       "      <td>0.0</td>\n",
       "    </tr>\n",
       "    <tr>\n",
       "      <th>1198</th>\n",
       "      <td>36.369400</td>\n",
       "      <td>36.369400</td>\n",
       "      <td>35.974400</td>\n",
       "      <td>35.974400</td>\n",
       "      <td>35.974400</td>\n",
       "      <td>35.974400</td>\n",
       "      <td>35.974400</td>\n",
       "      <td>36.369400</td>\n",
       "      <td>35.974400</td>\n",
       "      <td>35.974400</td>\n",
       "      <td>...</td>\n",
       "      <td>35.579399</td>\n",
       "      <td>35.579399</td>\n",
       "      <td>35.579399</td>\n",
       "      <td>35.579399</td>\n",
       "      <td>35.579399</td>\n",
       "      <td>35.579399</td>\n",
       "      <td>35.579399</td>\n",
       "      <td>35.579399</td>\n",
       "      <td>743.0</td>\n",
       "      <td>0.0</td>\n",
       "    </tr>\n",
       "    <tr>\n",
       "      <th>1199</th>\n",
       "      <td>37.159401</td>\n",
       "      <td>37.159401</td>\n",
       "      <td>37.159401</td>\n",
       "      <td>37.159401</td>\n",
       "      <td>36.764400</td>\n",
       "      <td>36.369400</td>\n",
       "      <td>35.184399</td>\n",
       "      <td>34.789501</td>\n",
       "      <td>33.604500</td>\n",
       "      <td>33.209499</td>\n",
       "      <td>...</td>\n",
       "      <td>24.519899</td>\n",
       "      <td>24.519899</td>\n",
       "      <td>25.309900</td>\n",
       "      <td>25.309900</td>\n",
       "      <td>26.099800</td>\n",
       "      <td>26.494801</td>\n",
       "      <td>27.284800</td>\n",
       "      <td>27.679800</td>\n",
       "      <td>744.0</td>\n",
       "      <td>0.0</td>\n",
       "    </tr>\n",
       "  </tbody>\n",
       "</table>\n",
       "<p>1171 rows × 302 columns</p>\n",
       "</div>"
      ],
      "text/plain": [
       "              0          1          2          3          4          5  \\\n",
       "0     62.438301  62.043301  62.438301  61.648300  61.253300  60.463299   \n",
       "1     39.924198  42.689098  44.664001  46.638901  49.008801  50.193802   \n",
       "2     23.334999  23.729900  24.519899  25.309900  26.494801  28.074800   \n",
       "3     57.698502  57.303501  55.723499  54.538601  53.353699  51.773701   \n",
       "4     26.494801  28.074800  30.049700  32.024601  34.394501  37.159401   \n",
       "...         ...        ...        ...        ...        ...        ...   \n",
       "1195  43.874100  43.084099  42.689098  41.899200  41.504200  40.714199   \n",
       "1196  41.504200  41.109200  41.109200  40.714199  40.319199  39.924198   \n",
       "1197  -1.153980  -1.153980  -1.153980  -1.153980  -1.153980  -1.153980   \n",
       "1198  36.369400  36.369400  35.974400  35.974400  35.974400  35.974400   \n",
       "1199  37.159401  37.159401  37.159401  37.159401  36.764400  36.369400   \n",
       "\n",
       "              6          7          8          9  ...        292        293  \\\n",
       "0     59.278400  57.303501  56.513500  54.933601  ...  39.529301  38.344299   \n",
       "1     51.773701  53.353699  54.143600  54.933601  ...  54.143600  55.328602   \n",
       "2     30.444599  32.814499  35.579399  37.949299  ...  52.168701  52.958698   \n",
       "3     49.798801  47.823898  45.453999  43.874100  ...  60.463299  59.673401   \n",
       "4     40.319199  43.479099  47.033901  50.193802  ...  56.118500  55.328602   \n",
       "...         ...        ...        ...        ...  ...        ...        ...   \n",
       "1195  40.319199  39.924198  39.529301  39.529301  ...  39.924198  39.924198   \n",
       "1196  39.134300  39.134300  38.739300  38.344299  ...  37.159401  37.159401   \n",
       "1197  -1.548960  -1.153980  -1.548960  -1.153980  ...  -1.153980  -1.153980   \n",
       "1198  35.974400  36.369400  35.974400  35.974400  ...  35.579399  35.579399   \n",
       "1199  35.184399  34.789501  33.604500  33.209499  ...  24.519899  24.519899   \n",
       "\n",
       "            294        295        296        297        298        299  \\\n",
       "0     37.949299  37.159401  36.369400  35.579399  34.789501  33.999500   \n",
       "1     56.118500  56.513500  56.118500  56.908501  56.908501  56.908501   \n",
       "2     54.933601  56.513500  56.908501  57.303501  58.093399  58.093399   \n",
       "3     59.278400  57.698502  56.908501  55.328602  53.748600  51.378700   \n",
       "4     54.143600  52.563702  51.378700  50.193802  47.823898  45.453999   \n",
       "...         ...        ...        ...        ...        ...        ...   \n",
       "1195  39.924198  39.529301  39.529301  39.134300  38.739300  38.739300   \n",
       "1196  37.159401  37.159401  37.159401  37.159401  37.159401  37.159401   \n",
       "1197  -0.758994  -1.153980  -1.153980  -1.548960  -1.153980  -1.153980   \n",
       "1198  35.579399  35.579399  35.579399  35.579399  35.579399  35.579399   \n",
       "1199  25.309900  25.309900  26.099800  26.494801  27.284800  27.679800   \n",
       "\n",
       "      caseid  label  \n",
       "0        1.0   -1.0  \n",
       "1        1.0   -1.0  \n",
       "2        1.0    0.0  \n",
       "3        4.0    0.0  \n",
       "4        4.0    0.0  \n",
       "...      ...    ...  \n",
       "1195   742.0    0.0  \n",
       "1196   743.0    0.0  \n",
       "1197   743.0    0.0  \n",
       "1198   743.0    0.0  \n",
       "1199   744.0    0.0  \n",
       "\n",
       "[1171 rows x 302 columns]"
      ]
     },
     "execution_count": 16,
     "metadata": {},
     "output_type": "execute_result"
    }
   ],
   "source": [
    "df_ppg"
   ]
  },
  {
   "cell_type": "code",
   "execution_count": 17,
   "metadata": {},
   "outputs": [
    {
     "data": {
      "text/plain": [
       "359"
      ]
     },
     "execution_count": 17,
     "metadata": {},
     "output_type": "execute_result"
    }
   ],
   "source": [
    "len(set(df_ppg['caseid']))"
   ]
  },
  {
   "cell_type": "markdown",
   "metadata": {},
   "source": [
    "* ecg dataframe"
   ]
  },
  {
   "cell_type": "code",
   "execution_count": 17,
   "metadata": {},
   "outputs": [],
   "source": [
    "df_ecg = pd.DataFrame(list(ecg_signal_5))"
   ]
  },
  {
   "cell_type": "code",
   "execution_count": 18,
   "metadata": {},
   "outputs": [],
   "source": [
    "df_ecg['caseid'] = list(ecg_id)"
   ]
  },
  {
   "cell_type": "code",
   "execution_count": 19,
   "metadata": {},
   "outputs": [],
   "source": [
    "df_ecg['label'] = list(ecg_lb)"
   ]
  },
  {
   "cell_type": "code",
   "execution_count": 20,
   "metadata": {},
   "outputs": [],
   "source": [
    "df_ecg = df_ecg.dropna()"
   ]
  },
  {
   "cell_type": "markdown",
   "metadata": {},
   "source": [
    "* concat df"
   ]
  },
  {
   "cell_type": "code",
   "execution_count": 21,
   "metadata": {},
   "outputs": [
    {
     "data": {
      "text/plain": [
       "359"
      ]
     },
     "execution_count": 21,
     "metadata": {},
     "output_type": "execute_result"
    }
   ],
   "source": [
    "len(list(set(df_ppg['caseid'])))"
   ]
  },
  {
   "cell_type": "code",
   "execution_count": 22,
   "metadata": {},
   "outputs": [
    {
     "data": {
      "text/plain": [
       "359"
      ]
     },
     "execution_count": 22,
     "metadata": {},
     "output_type": "execute_result"
    }
   ],
   "source": [
    "len(list(set(df_ecg['caseid'])))"
   ]
  },
  {
   "cell_type": "code",
   "execution_count": 23,
   "metadata": {},
   "outputs": [
    {
     "data": {
      "text/plain": [
       "359"
      ]
     },
     "execution_count": 23,
     "metadata": {},
     "output_type": "execute_result"
    }
   ],
   "source": [
    "len(list(set(df_ppg['caseid'])&set(df_ecg['caseid'])))"
   ]
  },
  {
   "cell_type": "code",
   "execution_count": 24,
   "metadata": {},
   "outputs": [],
   "source": [
    "in_id = list(set(df_ppg['caseid'])&set(df_ecg['caseid']))"
   ]
  },
  {
   "cell_type": "code",
   "execution_count": 25,
   "metadata": {},
   "outputs": [],
   "source": [
    "df_ecg['check'] = df_ecg['caseid'].map(lambda x : x in in_id)"
   ]
  },
  {
   "cell_type": "code",
   "execution_count": 26,
   "metadata": {},
   "outputs": [],
   "source": [
    "df_ecg = df_ecg[df_ecg['check'] == True]"
   ]
  },
  {
   "cell_type": "code",
   "execution_count": 27,
   "metadata": {},
   "outputs": [],
   "source": [
    "df_ecg = df_ecg.dropna()"
   ]
  },
  {
   "cell_type": "code",
   "execution_count": 28,
   "metadata": {},
   "outputs": [],
   "source": [
    "df_ecg = df_ecg.drop('check', axis=1)"
   ]
  },
  {
   "cell_type": "code",
   "execution_count": 29,
   "metadata": {},
   "outputs": [
    {
     "data": {
      "text/html": [
       "<div>\n",
       "<style scoped>\n",
       "    .dataframe tbody tr th:only-of-type {\n",
       "        vertical-align: middle;\n",
       "    }\n",
       "\n",
       "    .dataframe tbody tr th {\n",
       "        vertical-align: top;\n",
       "    }\n",
       "\n",
       "    .dataframe thead th {\n",
       "        text-align: right;\n",
       "    }\n",
       "</style>\n",
       "<table border=\"1\" class=\"dataframe\">\n",
       "  <thead>\n",
       "    <tr style=\"text-align: right;\">\n",
       "      <th></th>\n",
       "      <th>0</th>\n",
       "      <th>1</th>\n",
       "      <th>2</th>\n",
       "      <th>3</th>\n",
       "      <th>4</th>\n",
       "      <th>5</th>\n",
       "      <th>6</th>\n",
       "      <th>7</th>\n",
       "      <th>8</th>\n",
       "      <th>9</th>\n",
       "      <th>...</th>\n",
       "      <th>292</th>\n",
       "      <th>293</th>\n",
       "      <th>294</th>\n",
       "      <th>295</th>\n",
       "      <th>296</th>\n",
       "      <th>297</th>\n",
       "      <th>298</th>\n",
       "      <th>299</th>\n",
       "      <th>caseid</th>\n",
       "      <th>label</th>\n",
       "    </tr>\n",
       "  </thead>\n",
       "  <tbody>\n",
       "    <tr>\n",
       "      <th>0</th>\n",
       "      <td>5.145430</td>\n",
       "      <td>5.145430</td>\n",
       "      <td>5.145430</td>\n",
       "      <td>5.145430</td>\n",
       "      <td>5.145430</td>\n",
       "      <td>5.145430</td>\n",
       "      <td>0.958608</td>\n",
       "      <td>-4.956260</td>\n",
       "      <td>-4.956260</td>\n",
       "      <td>-4.956260</td>\n",
       "      <td>...</td>\n",
       "      <td>0.415506</td>\n",
       "      <td>-0.344836</td>\n",
       "      <td>0.247639</td>\n",
       "      <td>0.060022</td>\n",
       "      <td>-0.255965</td>\n",
       "      <td>0.405632</td>\n",
       "      <td>-0.344836</td>\n",
       "      <td>0.247639</td>\n",
       "      <td>1.0</td>\n",
       "      <td>-1.0</td>\n",
       "    </tr>\n",
       "    <tr>\n",
       "      <th>1</th>\n",
       "      <td>0.148893</td>\n",
       "      <td>-0.009100</td>\n",
       "      <td>-0.068348</td>\n",
       "      <td>-0.088097</td>\n",
       "      <td>-0.107846</td>\n",
       "      <td>-0.107846</td>\n",
       "      <td>-0.107846</td>\n",
       "      <td>-0.097971</td>\n",
       "      <td>-0.107846</td>\n",
       "      <td>-0.078222</td>\n",
       "      <td>...</td>\n",
       "      <td>-0.058473</td>\n",
       "      <td>-0.038724</td>\n",
       "      <td>-0.028849</td>\n",
       "      <td>-0.048599</td>\n",
       "      <td>-0.048599</td>\n",
       "      <td>-0.028849</td>\n",
       "      <td>-0.018975</td>\n",
       "      <td>-0.028849</td>\n",
       "      <td>1.0</td>\n",
       "      <td>-1.0</td>\n",
       "    </tr>\n",
       "    <tr>\n",
       "      <th>2</th>\n",
       "      <td>-0.394209</td>\n",
       "      <td>0.346384</td>\n",
       "      <td>-0.097971</td>\n",
       "      <td>-0.088097</td>\n",
       "      <td>0.356259</td>\n",
       "      <td>-0.404083</td>\n",
       "      <td>0.356259</td>\n",
       "      <td>-0.117721</td>\n",
       "      <td>-0.038724</td>\n",
       "      <td>0.385883</td>\n",
       "      <td>...</td>\n",
       "      <td>5.145430</td>\n",
       "      <td>5.145430</td>\n",
       "      <td>5.145430</td>\n",
       "      <td>5.145430</td>\n",
       "      <td>5.145430</td>\n",
       "      <td>5.145430</td>\n",
       "      <td>5.145430</td>\n",
       "      <td>5.145430</td>\n",
       "      <td>1.0</td>\n",
       "      <td>0.0</td>\n",
       "    </tr>\n",
       "    <tr>\n",
       "      <th>3</th>\n",
       "      <td>0.030398</td>\n",
       "      <td>0.040273</td>\n",
       "      <td>0.050147</td>\n",
       "      <td>0.060022</td>\n",
       "      <td>0.069896</td>\n",
       "      <td>0.089645</td>\n",
       "      <td>0.119269</td>\n",
       "      <td>0.148893</td>\n",
       "      <td>0.188391</td>\n",
       "      <td>0.227889</td>\n",
       "      <td>...</td>\n",
       "      <td>0.069896</td>\n",
       "      <td>0.099520</td>\n",
       "      <td>0.119269</td>\n",
       "      <td>0.139018</td>\n",
       "      <td>0.198266</td>\n",
       "      <td>0.227889</td>\n",
       "      <td>0.277262</td>\n",
       "      <td>0.326635</td>\n",
       "      <td>4.0</td>\n",
       "      <td>0.0</td>\n",
       "    </tr>\n",
       "    <tr>\n",
       "      <th>4</th>\n",
       "      <td>-0.137470</td>\n",
       "      <td>-0.157219</td>\n",
       "      <td>-0.206592</td>\n",
       "      <td>-0.097971</td>\n",
       "      <td>0.297011</td>\n",
       "      <td>0.682120</td>\n",
       "      <td>0.682120</td>\n",
       "      <td>0.287137</td>\n",
       "      <td>-0.127595</td>\n",
       "      <td>-0.305337</td>\n",
       "      <td>...</td>\n",
       "      <td>0.020523</td>\n",
       "      <td>0.060022</td>\n",
       "      <td>0.119269</td>\n",
       "      <td>0.148893</td>\n",
       "      <td>0.178517</td>\n",
       "      <td>0.208140</td>\n",
       "      <td>0.208140</td>\n",
       "      <td>0.198266</td>\n",
       "      <td>4.0</td>\n",
       "      <td>0.0</td>\n",
       "    </tr>\n",
       "    <tr>\n",
       "      <th>...</th>\n",
       "      <td>...</td>\n",
       "      <td>...</td>\n",
       "      <td>...</td>\n",
       "      <td>...</td>\n",
       "      <td>...</td>\n",
       "      <td>...</td>\n",
       "      <td>...</td>\n",
       "      <td>...</td>\n",
       "      <td>...</td>\n",
       "      <td>...</td>\n",
       "      <td>...</td>\n",
       "      <td>...</td>\n",
       "      <td>...</td>\n",
       "      <td>...</td>\n",
       "      <td>...</td>\n",
       "      <td>...</td>\n",
       "      <td>...</td>\n",
       "      <td>...</td>\n",
       "      <td>...</td>\n",
       "      <td>...</td>\n",
       "      <td>...</td>\n",
       "    </tr>\n",
       "    <tr>\n",
       "      <th>1195</th>\n",
       "      <td>0.770991</td>\n",
       "      <td>0.741367</td>\n",
       "      <td>0.208140</td>\n",
       "      <td>-0.058473</td>\n",
       "      <td>-0.009100</td>\n",
       "      <td>0.069896</td>\n",
       "      <td>0.079771</td>\n",
       "      <td>0.069896</td>\n",
       "      <td>0.060022</td>\n",
       "      <td>0.069896</td>\n",
       "      <td>...</td>\n",
       "      <td>0.079771</td>\n",
       "      <td>0.099520</td>\n",
       "      <td>0.109395</td>\n",
       "      <td>0.129144</td>\n",
       "      <td>0.148893</td>\n",
       "      <td>0.168642</td>\n",
       "      <td>0.198266</td>\n",
       "      <td>0.227889</td>\n",
       "      <td>742.0</td>\n",
       "      <td>0.0</td>\n",
       "    </tr>\n",
       "    <tr>\n",
       "      <th>1196</th>\n",
       "      <td>0.020523</td>\n",
       "      <td>-0.009100</td>\n",
       "      <td>-0.038724</td>\n",
       "      <td>-0.058473</td>\n",
       "      <td>-0.058473</td>\n",
       "      <td>-0.058473</td>\n",
       "      <td>-0.048599</td>\n",
       "      <td>-0.068348</td>\n",
       "      <td>-0.117721</td>\n",
       "      <td>-0.058473</td>\n",
       "      <td>...</td>\n",
       "      <td>0.000774</td>\n",
       "      <td>0.000774</td>\n",
       "      <td>0.000774</td>\n",
       "      <td>0.000774</td>\n",
       "      <td>0.020523</td>\n",
       "      <td>0.030398</td>\n",
       "      <td>0.040273</td>\n",
       "      <td>0.060022</td>\n",
       "      <td>743.0</td>\n",
       "      <td>0.0</td>\n",
       "    </tr>\n",
       "    <tr>\n",
       "      <th>1197</th>\n",
       "      <td>0.040273</td>\n",
       "      <td>-0.186843</td>\n",
       "      <td>-0.078222</td>\n",
       "      <td>0.030398</td>\n",
       "      <td>0.050147</td>\n",
       "      <td>0.030398</td>\n",
       "      <td>0.030398</td>\n",
       "      <td>0.040273</td>\n",
       "      <td>0.050147</td>\n",
       "      <td>0.050147</td>\n",
       "      <td>...</td>\n",
       "      <td>0.514252</td>\n",
       "      <td>0.553750</td>\n",
       "      <td>0.593248</td>\n",
       "      <td>0.622872</td>\n",
       "      <td>0.632747</td>\n",
       "      <td>0.622872</td>\n",
       "      <td>0.573499</td>\n",
       "      <td>0.484628</td>\n",
       "      <td>743.0</td>\n",
       "      <td>0.0</td>\n",
       "    </tr>\n",
       "    <tr>\n",
       "      <th>1198</th>\n",
       "      <td>0.445130</td>\n",
       "      <td>0.464879</td>\n",
       "      <td>0.484628</td>\n",
       "      <td>0.484628</td>\n",
       "      <td>0.474754</td>\n",
       "      <td>0.464879</td>\n",
       "      <td>0.415506</td>\n",
       "      <td>0.346384</td>\n",
       "      <td>0.267388</td>\n",
       "      <td>0.198266</td>\n",
       "      <td>...</td>\n",
       "      <td>0.237764</td>\n",
       "      <td>0.168642</td>\n",
       "      <td>0.099520</td>\n",
       "      <td>0.050147</td>\n",
       "      <td>0.010649</td>\n",
       "      <td>-0.009100</td>\n",
       "      <td>-0.009100</td>\n",
       "      <td>0.000774</td>\n",
       "      <td>743.0</td>\n",
       "      <td>0.0</td>\n",
       "    </tr>\n",
       "    <tr>\n",
       "      <th>1199</th>\n",
       "      <td>0.257513</td>\n",
       "      <td>0.237764</td>\n",
       "      <td>0.237764</td>\n",
       "      <td>0.267388</td>\n",
       "      <td>0.237764</td>\n",
       "      <td>0.198266</td>\n",
       "      <td>0.198266</td>\n",
       "      <td>0.178517</td>\n",
       "      <td>0.178517</td>\n",
       "      <td>0.178517</td>\n",
       "      <td>...</td>\n",
       "      <td>0.316761</td>\n",
       "      <td>0.316761</td>\n",
       "      <td>0.297011</td>\n",
       "      <td>0.277262</td>\n",
       "      <td>0.267388</td>\n",
       "      <td>0.277262</td>\n",
       "      <td>0.287137</td>\n",
       "      <td>0.306886</td>\n",
       "      <td>744.0</td>\n",
       "      <td>0.0</td>\n",
       "    </tr>\n",
       "  </tbody>\n",
       "</table>\n",
       "<p>1171 rows × 302 columns</p>\n",
       "</div>"
      ],
      "text/plain": [
       "             0         1         2         3         4         5         6  \\\n",
       "0     5.145430  5.145430  5.145430  5.145430  5.145430  5.145430  0.958608   \n",
       "1     0.148893 -0.009100 -0.068348 -0.088097 -0.107846 -0.107846 -0.107846   \n",
       "2    -0.394209  0.346384 -0.097971 -0.088097  0.356259 -0.404083  0.356259   \n",
       "3     0.030398  0.040273  0.050147  0.060022  0.069896  0.089645  0.119269   \n",
       "4    -0.137470 -0.157219 -0.206592 -0.097971  0.297011  0.682120  0.682120   \n",
       "...        ...       ...       ...       ...       ...       ...       ...   \n",
       "1195  0.770991  0.741367  0.208140 -0.058473 -0.009100  0.069896  0.079771   \n",
       "1196  0.020523 -0.009100 -0.038724 -0.058473 -0.058473 -0.058473 -0.048599   \n",
       "1197  0.040273 -0.186843 -0.078222  0.030398  0.050147  0.030398  0.030398   \n",
       "1198  0.445130  0.464879  0.484628  0.484628  0.474754  0.464879  0.415506   \n",
       "1199  0.257513  0.237764  0.237764  0.267388  0.237764  0.198266  0.198266   \n",
       "\n",
       "             7         8         9  ...       292       293       294  \\\n",
       "0    -4.956260 -4.956260 -4.956260  ...  0.415506 -0.344836  0.247639   \n",
       "1    -0.097971 -0.107846 -0.078222  ... -0.058473 -0.038724 -0.028849   \n",
       "2    -0.117721 -0.038724  0.385883  ...  5.145430  5.145430  5.145430   \n",
       "3     0.148893  0.188391  0.227889  ...  0.069896  0.099520  0.119269   \n",
       "4     0.287137 -0.127595 -0.305337  ...  0.020523  0.060022  0.119269   \n",
       "...        ...       ...       ...  ...       ...       ...       ...   \n",
       "1195  0.069896  0.060022  0.069896  ...  0.079771  0.099520  0.109395   \n",
       "1196 -0.068348 -0.117721 -0.058473  ...  0.000774  0.000774  0.000774   \n",
       "1197  0.040273  0.050147  0.050147  ...  0.514252  0.553750  0.593248   \n",
       "1198  0.346384  0.267388  0.198266  ...  0.237764  0.168642  0.099520   \n",
       "1199  0.178517  0.178517  0.178517  ...  0.316761  0.316761  0.297011   \n",
       "\n",
       "           295       296       297       298       299  caseid  label  \n",
       "0     0.060022 -0.255965  0.405632 -0.344836  0.247639     1.0   -1.0  \n",
       "1    -0.048599 -0.048599 -0.028849 -0.018975 -0.028849     1.0   -1.0  \n",
       "2     5.145430  5.145430  5.145430  5.145430  5.145430     1.0    0.0  \n",
       "3     0.139018  0.198266  0.227889  0.277262  0.326635     4.0    0.0  \n",
       "4     0.148893  0.178517  0.208140  0.208140  0.198266     4.0    0.0  \n",
       "...        ...       ...       ...       ...       ...     ...    ...  \n",
       "1195  0.129144  0.148893  0.168642  0.198266  0.227889   742.0    0.0  \n",
       "1196  0.000774  0.020523  0.030398  0.040273  0.060022   743.0    0.0  \n",
       "1197  0.622872  0.632747  0.622872  0.573499  0.484628   743.0    0.0  \n",
       "1198  0.050147  0.010649 -0.009100 -0.009100  0.000774   743.0    0.0  \n",
       "1199  0.277262  0.267388  0.277262  0.287137  0.306886   744.0    0.0  \n",
       "\n",
       "[1171 rows x 302 columns]"
      ]
     },
     "execution_count": 29,
     "metadata": {},
     "output_type": "execute_result"
    }
   ],
   "source": [
    "df_ecg"
   ]
  },
  {
   "cell_type": "markdown",
   "metadata": {},
   "source": [
    "### band pass filter"
   ]
  },
  {
   "cell_type": "code",
   "execution_count": 30,
   "metadata": {},
   "outputs": [],
   "source": [
    "from scipy.signal import butter\n",
    "from scipy.signal import lfilter\n",
    "\n",
    "def butter_bandpass(lowcut, highcut, fs, order=5):\n",
    "    nyq = 0.5 * fs # 50, fs:100 \n",
    "    low = lowcut / nyq # 0.5/50 = 1/100, lowcut: 0.5\n",
    "    high = highcut / nyq # 15/50 = 30/100, highcut : 15\n",
    "    # order : frequency cut wave\n",
    "    b, a = butter(order, [low, high], btype='band')\n",
    "    return b, a\n",
    "\n",
    "\n",
    "def butter_bandpass_filter(data, lowcut, highcut, fs, order=5):\n",
    "    b, a = butter_bandpass(lowcut, highcut, fs, order=order)\n",
    "    y = lfilter(b, a, data)\n",
    "    return y\n",
    "\n",
    "\n",
    "# BPF setting 5 ~ 110 hz\n",
    "lowcut = 0.5\n",
    "highcut = 5\n",
    "fs = 100"
   ]
  },
  {
   "cell_type": "code",
   "execution_count": 31,
   "metadata": {},
   "outputs": [],
   "source": [
    "def butter_bandpass_filter(data, lowcut, highcut, fs, order=5):\n",
    "    return data"
   ]
  },
  {
   "cell_type": "markdown",
   "metadata": {},
   "source": [
    "* visualize"
   ]
  },
  {
   "cell_type": "code",
   "execution_count": 32,
   "metadata": {},
   "outputs": [],
   "source": [
    "import matplotlib.pylab as plt"
   ]
  },
  {
   "cell_type": "code",
   "execution_count": 33,
   "metadata": {},
   "outputs": [],
   "source": [
    "df_ppg_bp_sig = []\n",
    "for idx in range(len(df_ppg)):\n",
    "    df_ppg_bp_sig.append(butter_bandpass_filter(df_ppg.iloc[idx][:-2], lowcut, highcut, fs))"
   ]
  },
  {
   "cell_type": "code",
   "execution_count": 34,
   "metadata": {},
   "outputs": [],
   "source": [
    "df_ppg_bp_sig = df_ppg"
   ]
  },
  {
   "cell_type": "code",
   "execution_count": 35,
   "metadata": {},
   "outputs": [],
   "source": [
    "df_ecg_bp_sig = []\n",
    "for idx in range(len(df_ecg)):\n",
    "    df_ecg_bp_sig.append(butter_bandpass_filter(df_ecg.iloc[idx][:-2], lowcut, highcut, fs))"
   ]
  },
  {
   "cell_type": "code",
   "execution_count": 36,
   "metadata": {},
   "outputs": [],
   "source": [
    "df_ecg_bp_sig = df_ecg"
   ]
  },
  {
   "cell_type": "code",
   "execution_count": 37,
   "metadata": {},
   "outputs": [
    {
     "data": {
      "text/plain": [
       "[<matplotlib.lines.Line2D at 0x7fedca46d850>]"
      ]
     },
     "execution_count": 37,
     "metadata": {},
     "output_type": "execute_result"
    },
    {
     "data": {
      "image/png": "[encoded data removed]",
      "text/plain": [
       "<Figure size 432x288 with 1 Axes>"
      ]
     },
     "metadata": {
      "needs_background": "light"
     },
     "output_type": "display_data"
    }
   ],
   "source": [
    "plt.plot(df_ppg_bp_sig[0])\n",
    "plt.plot(df_ecg_bp_sig[0])"
   ]
  },
  {
   "cell_type": "code",
   "execution_count": 38,
   "metadata": {},
   "outputs": [
    {
     "data": {
      "text/plain": [
       "[<matplotlib.lines.Line2D at 0x7fedca43e250>]"
      ]
     },
     "execution_count": 38,
     "metadata": {},
     "output_type": "execute_result"
    },
    {
     "data": {
      "image/png": "[encoded data removed]",
      "text/plain": [
       "<Figure size 432x288 with 1 Axes>"
      ]
     },
     "metadata": {
      "needs_background": "light"
     },
     "output_type": "display_data"
    }
   ],
   "source": [
    "plt.plot(df_ppg_bp_sig[0])"
   ]
  },
  {
   "cell_type": "code",
   "execution_count": 39,
   "metadata": {},
   "outputs": [
    {
     "data": {
      "text/plain": [
       "[<matplotlib.lines.Line2D at 0x7fedca3f3cd0>]"
      ]
     },
     "execution_count": 39,
     "metadata": {},
     "output_type": "execute_result"
    },
    {
     "data": {
      "image/png": "[encoded data removed]",
      "text/plain": [
       "<Figure size 432x288 with 1 Axes>"
      ]
     },
     "metadata": {
      "needs_background": "light"
     },
     "output_type": "display_data"
    }
   ],
   "source": [
    "plt.plot(df_ecg_bp_sig[0])"
   ]
  },
  {
   "cell_type": "markdown",
   "metadata": {},
   "source": [
    "### train test split"
   ]
  },
  {
   "cell_type": "code",
   "execution_count": 40,
   "metadata": {},
   "outputs": [],
   "source": [
    "from sklearn.model_selection import train_test_split"
   ]
  },
  {
   "cell_type": "code",
   "execution_count": 41,
   "metadata": {},
   "outputs": [],
   "source": [
    "y_train_ppg = list(df_ppg['label'].map(lambda x : 0 if x == 0 else 1))"
   ]
  },
  {
   "cell_type": "markdown",
   "metadata": {},
   "source": [
    "* ppg"
   ]
  },
  {
   "cell_type": "code",
   "execution_count": 43,
   "metadata": {},
   "outputs": [
    {
     "data": {
      "text/html": [
       "<div>\n",
       "<style scoped>\n",
       "    .dataframe tbody tr th:only-of-type {\n",
       "        vertical-align: middle;\n",
       "    }\n",
       "\n",
       "    .dataframe tbody tr th {\n",
       "        vertical-align: top;\n",
       "    }\n",
       "\n",
       "    .dataframe thead th {\n",
       "        text-align: right;\n",
       "    }\n",
       "</style>\n",
       "<table border=\"1\" class=\"dataframe\">\n",
       "  <thead>\n",
       "    <tr style=\"text-align: right;\">\n",
       "      <th></th>\n",
       "      <th>0</th>\n",
       "      <th>1</th>\n",
       "      <th>2</th>\n",
       "      <th>3</th>\n",
       "      <th>4</th>\n",
       "      <th>5</th>\n",
       "      <th>6</th>\n",
       "      <th>7</th>\n",
       "      <th>8</th>\n",
       "      <th>9</th>\n",
       "      <th>...</th>\n",
       "      <th>292</th>\n",
       "      <th>293</th>\n",
       "      <th>294</th>\n",
       "      <th>295</th>\n",
       "      <th>296</th>\n",
       "      <th>297</th>\n",
       "      <th>298</th>\n",
       "      <th>299</th>\n",
       "      <th>caseid</th>\n",
       "      <th>label</th>\n",
       "    </tr>\n",
       "  </thead>\n",
       "  <tbody>\n",
       "    <tr>\n",
       "      <th>0</th>\n",
       "      <td>62.438301</td>\n",
       "      <td>62.043301</td>\n",
       "      <td>62.438301</td>\n",
       "      <td>61.648300</td>\n",
       "      <td>61.253300</td>\n",
       "      <td>60.463299</td>\n",
       "      <td>59.278400</td>\n",
       "      <td>57.303501</td>\n",
       "      <td>56.513500</td>\n",
       "      <td>54.933601</td>\n",
       "      <td>...</td>\n",
       "      <td>39.529301</td>\n",
       "      <td>38.344299</td>\n",
       "      <td>37.949299</td>\n",
       "      <td>37.159401</td>\n",
       "      <td>36.369400</td>\n",
       "      <td>35.579399</td>\n",
       "      <td>34.789501</td>\n",
       "      <td>33.999500</td>\n",
       "      <td>1.0</td>\n",
       "      <td>-1.0</td>\n",
       "    </tr>\n",
       "    <tr>\n",
       "      <th>1</th>\n",
       "      <td>39.924198</td>\n",
       "      <td>42.689098</td>\n",
       "      <td>44.664001</td>\n",
       "      <td>46.638901</td>\n",
       "      <td>49.008801</td>\n",
       "      <td>50.193802</td>\n",
       "      <td>51.773701</td>\n",
       "      <td>53.353699</td>\n",
       "      <td>54.143600</td>\n",
       "      <td>54.933601</td>\n",
       "      <td>...</td>\n",
       "      <td>54.143600</td>\n",
       "      <td>55.328602</td>\n",
       "      <td>56.118500</td>\n",
       "      <td>56.513500</td>\n",
       "      <td>56.118500</td>\n",
       "      <td>56.908501</td>\n",
       "      <td>56.908501</td>\n",
       "      <td>56.908501</td>\n",
       "      <td>1.0</td>\n",
       "      <td>-1.0</td>\n",
       "    </tr>\n",
       "    <tr>\n",
       "      <th>2</th>\n",
       "      <td>23.334999</td>\n",
       "      <td>23.729900</td>\n",
       "      <td>24.519899</td>\n",
       "      <td>25.309900</td>\n",
       "      <td>26.494801</td>\n",
       "      <td>28.074800</td>\n",
       "      <td>30.444599</td>\n",
       "      <td>32.814499</td>\n",
       "      <td>35.579399</td>\n",
       "      <td>37.949299</td>\n",
       "      <td>...</td>\n",
       "      <td>52.168701</td>\n",
       "      <td>52.958698</td>\n",
       "      <td>54.933601</td>\n",
       "      <td>56.513500</td>\n",
       "      <td>56.908501</td>\n",
       "      <td>57.303501</td>\n",
       "      <td>58.093399</td>\n",
       "      <td>58.093399</td>\n",
       "      <td>1.0</td>\n",
       "      <td>0.0</td>\n",
       "    </tr>\n",
       "    <tr>\n",
       "      <th>3</th>\n",
       "      <td>57.698502</td>\n",
       "      <td>57.303501</td>\n",
       "      <td>55.723499</td>\n",
       "      <td>54.538601</td>\n",
       "      <td>53.353699</td>\n",
       "      <td>51.773701</td>\n",
       "      <td>49.798801</td>\n",
       "      <td>47.823898</td>\n",
       "      <td>45.453999</td>\n",
       "      <td>43.874100</td>\n",
       "      <td>...</td>\n",
       "      <td>60.463299</td>\n",
       "      <td>59.673401</td>\n",
       "      <td>59.278400</td>\n",
       "      <td>57.698502</td>\n",
       "      <td>56.908501</td>\n",
       "      <td>55.328602</td>\n",
       "      <td>53.748600</td>\n",
       "      <td>51.378700</td>\n",
       "      <td>4.0</td>\n",
       "      <td>0.0</td>\n",
       "    </tr>\n",
       "    <tr>\n",
       "      <th>4</th>\n",
       "      <td>26.494801</td>\n",
       "      <td>28.074800</td>\n",
       "      <td>30.049700</td>\n",
       "      <td>32.024601</td>\n",
       "      <td>34.394501</td>\n",
       "      <td>37.159401</td>\n",
       "      <td>40.319199</td>\n",
       "      <td>43.479099</td>\n",
       "      <td>47.033901</td>\n",
       "      <td>50.193802</td>\n",
       "      <td>...</td>\n",
       "      <td>56.118500</td>\n",
       "      <td>55.328602</td>\n",
       "      <td>54.143600</td>\n",
       "      <td>52.563702</td>\n",
       "      <td>51.378700</td>\n",
       "      <td>50.193802</td>\n",
       "      <td>47.823898</td>\n",
       "      <td>45.453999</td>\n",
       "      <td>4.0</td>\n",
       "      <td>0.0</td>\n",
       "    </tr>\n",
       "  </tbody>\n",
       "</table>\n",
       "<p>5 rows × 302 columns</p>\n",
       "</div>"
      ],
      "text/plain": [
       "           0          1          2          3          4          5  \\\n",
       "0  62.438301  62.043301  62.438301  61.648300  61.253300  60.463299   \n",
       "1  39.924198  42.689098  44.664001  46.638901  49.008801  50.193802   \n",
       "2  23.334999  23.729900  24.519899  25.309900  26.494801  28.074800   \n",
       "3  57.698502  57.303501  55.723499  54.538601  53.353699  51.773701   \n",
       "4  26.494801  28.074800  30.049700  32.024601  34.394501  37.159401   \n",
       "\n",
       "           6          7          8          9  ...        292        293  \\\n",
       "0  59.278400  57.303501  56.513500  54.933601  ...  39.529301  38.344299   \n",
       "1  51.773701  53.353699  54.143600  54.933601  ...  54.143600  55.328602   \n",
       "2  30.444599  32.814499  35.579399  37.949299  ...  52.168701  52.958698   \n",
       "3  49.798801  47.823898  45.453999  43.874100  ...  60.463299  59.673401   \n",
       "4  40.319199  43.479099  47.033901  50.193802  ...  56.118500  55.328602   \n",
       "\n",
       "         294        295        296        297        298        299  caseid  \\\n",
       "0  37.949299  37.159401  36.369400  35.579399  34.789501  33.999500     1.0   \n",
       "1  56.118500  56.513500  56.118500  56.908501  56.908501  56.908501     1.0   \n",
       "2  54.933601  56.513500  56.908501  57.303501  58.093399  58.093399     1.0   \n",
       "3  59.278400  57.698502  56.908501  55.328602  53.748600  51.378700     4.0   \n",
       "4  54.143600  52.563702  51.378700  50.193802  47.823898  45.453999     4.0   \n",
       "\n",
       "   label  \n",
       "0   -1.0  \n",
       "1   -1.0  \n",
       "2    0.0  \n",
       "3    0.0  \n",
       "4    0.0  \n",
       "\n",
       "[5 rows x 302 columns]"
      ]
     },
     "execution_count": 43,
     "metadata": {},
     "output_type": "execute_result"
    }
   ],
   "source": [
    "df_ppg_bp_sig.head()"
   ]
  },
  {
   "cell_type": "code",
   "execution_count": 44,
   "metadata": {},
   "outputs": [],
   "source": [
    "df_ppg_bp_sig = df_ppg_bp_sig.reset_index()"
   ]
  },
  {
   "cell_type": "code",
   "execution_count": 45,
   "metadata": {},
   "outputs": [
    {
     "data": {
      "text/html": [
       "<div>\n",
       "<style scoped>\n",
       "    .dataframe tbody tr th:only-of-type {\n",
       "        vertical-align: middle;\n",
       "    }\n",
       "\n",
       "    .dataframe tbody tr th {\n",
       "        vertical-align: top;\n",
       "    }\n",
       "\n",
       "    .dataframe thead th {\n",
       "        text-align: right;\n",
       "    }\n",
       "</style>\n",
       "<table border=\"1\" class=\"dataframe\">\n",
       "  <thead>\n",
       "    <tr style=\"text-align: right;\">\n",
       "      <th></th>\n",
       "      <th>index</th>\n",
       "      <th>0</th>\n",
       "      <th>1</th>\n",
       "      <th>2</th>\n",
       "      <th>3</th>\n",
       "      <th>4</th>\n",
       "      <th>5</th>\n",
       "      <th>6</th>\n",
       "      <th>7</th>\n",
       "      <th>8</th>\n",
       "      <th>...</th>\n",
       "      <th>292</th>\n",
       "      <th>293</th>\n",
       "      <th>294</th>\n",
       "      <th>295</th>\n",
       "      <th>296</th>\n",
       "      <th>297</th>\n",
       "      <th>298</th>\n",
       "      <th>299</th>\n",
       "      <th>caseid</th>\n",
       "      <th>label</th>\n",
       "    </tr>\n",
       "  </thead>\n",
       "  <tbody>\n",
       "    <tr>\n",
       "      <th>0</th>\n",
       "      <td>0</td>\n",
       "      <td>62.438301</td>\n",
       "      <td>62.043301</td>\n",
       "      <td>62.438301</td>\n",
       "      <td>61.648300</td>\n",
       "      <td>61.253300</td>\n",
       "      <td>60.463299</td>\n",
       "      <td>59.278400</td>\n",
       "      <td>57.303501</td>\n",
       "      <td>56.513500</td>\n",
       "      <td>...</td>\n",
       "      <td>39.529301</td>\n",
       "      <td>38.344299</td>\n",
       "      <td>37.949299</td>\n",
       "      <td>37.159401</td>\n",
       "      <td>36.369400</td>\n",
       "      <td>35.579399</td>\n",
       "      <td>34.789501</td>\n",
       "      <td>33.999500</td>\n",
       "      <td>1.0</td>\n",
       "      <td>-1.0</td>\n",
       "    </tr>\n",
       "    <tr>\n",
       "      <th>1</th>\n",
       "      <td>1</td>\n",
       "      <td>39.924198</td>\n",
       "      <td>42.689098</td>\n",
       "      <td>44.664001</td>\n",
       "      <td>46.638901</td>\n",
       "      <td>49.008801</td>\n",
       "      <td>50.193802</td>\n",
       "      <td>51.773701</td>\n",
       "      <td>53.353699</td>\n",
       "      <td>54.143600</td>\n",
       "      <td>...</td>\n",
       "      <td>54.143600</td>\n",
       "      <td>55.328602</td>\n",
       "      <td>56.118500</td>\n",
       "      <td>56.513500</td>\n",
       "      <td>56.118500</td>\n",
       "      <td>56.908501</td>\n",
       "      <td>56.908501</td>\n",
       "      <td>56.908501</td>\n",
       "      <td>1.0</td>\n",
       "      <td>-1.0</td>\n",
       "    </tr>\n",
       "    <tr>\n",
       "      <th>2</th>\n",
       "      <td>2</td>\n",
       "      <td>23.334999</td>\n",
       "      <td>23.729900</td>\n",
       "      <td>24.519899</td>\n",
       "      <td>25.309900</td>\n",
       "      <td>26.494801</td>\n",
       "      <td>28.074800</td>\n",
       "      <td>30.444599</td>\n",
       "      <td>32.814499</td>\n",
       "      <td>35.579399</td>\n",
       "      <td>...</td>\n",
       "      <td>52.168701</td>\n",
       "      <td>52.958698</td>\n",
       "      <td>54.933601</td>\n",
       "      <td>56.513500</td>\n",
       "      <td>56.908501</td>\n",
       "      <td>57.303501</td>\n",
       "      <td>58.093399</td>\n",
       "      <td>58.093399</td>\n",
       "      <td>1.0</td>\n",
       "      <td>0.0</td>\n",
       "    </tr>\n",
       "    <tr>\n",
       "      <th>3</th>\n",
       "      <td>3</td>\n",
       "      <td>57.698502</td>\n",
       "      <td>57.303501</td>\n",
       "      <td>55.723499</td>\n",
       "      <td>54.538601</td>\n",
       "      <td>53.353699</td>\n",
       "      <td>51.773701</td>\n",
       "      <td>49.798801</td>\n",
       "      <td>47.823898</td>\n",
       "      <td>45.453999</td>\n",
       "      <td>...</td>\n",
       "      <td>60.463299</td>\n",
       "      <td>59.673401</td>\n",
       "      <td>59.278400</td>\n",
       "      <td>57.698502</td>\n",
       "      <td>56.908501</td>\n",
       "      <td>55.328602</td>\n",
       "      <td>53.748600</td>\n",
       "      <td>51.378700</td>\n",
       "      <td>4.0</td>\n",
       "      <td>0.0</td>\n",
       "    </tr>\n",
       "    <tr>\n",
       "      <th>4</th>\n",
       "      <td>4</td>\n",
       "      <td>26.494801</td>\n",
       "      <td>28.074800</td>\n",
       "      <td>30.049700</td>\n",
       "      <td>32.024601</td>\n",
       "      <td>34.394501</td>\n",
       "      <td>37.159401</td>\n",
       "      <td>40.319199</td>\n",
       "      <td>43.479099</td>\n",
       "      <td>47.033901</td>\n",
       "      <td>...</td>\n",
       "      <td>56.118500</td>\n",
       "      <td>55.328602</td>\n",
       "      <td>54.143600</td>\n",
       "      <td>52.563702</td>\n",
       "      <td>51.378700</td>\n",
       "      <td>50.193802</td>\n",
       "      <td>47.823898</td>\n",
       "      <td>45.453999</td>\n",
       "      <td>4.0</td>\n",
       "      <td>0.0</td>\n",
       "    </tr>\n",
       "    <tr>\n",
       "      <th>...</th>\n",
       "      <td>...</td>\n",
       "      <td>...</td>\n",
       "      <td>...</td>\n",
       "      <td>...</td>\n",
       "      <td>...</td>\n",
       "      <td>...</td>\n",
       "      <td>...</td>\n",
       "      <td>...</td>\n",
       "      <td>...</td>\n",
       "      <td>...</td>\n",
       "      <td>...</td>\n",
       "      <td>...</td>\n",
       "      <td>...</td>\n",
       "      <td>...</td>\n",
       "      <td>...</td>\n",
       "      <td>...</td>\n",
       "      <td>...</td>\n",
       "      <td>...</td>\n",
       "      <td>...</td>\n",
       "      <td>...</td>\n",
       "      <td>...</td>\n",
       "    </tr>\n",
       "    <tr>\n",
       "      <th>1166</th>\n",
       "      <td>1195</td>\n",
       "      <td>43.874100</td>\n",
       "      <td>43.084099</td>\n",
       "      <td>42.689098</td>\n",
       "      <td>41.899200</td>\n",
       "      <td>41.504200</td>\n",
       "      <td>40.714199</td>\n",
       "      <td>40.319199</td>\n",
       "      <td>39.924198</td>\n",
       "      <td>39.529301</td>\n",
       "      <td>...</td>\n",
       "      <td>39.924198</td>\n",
       "      <td>39.924198</td>\n",
       "      <td>39.924198</td>\n",
       "      <td>39.529301</td>\n",
       "      <td>39.529301</td>\n",
       "      <td>39.134300</td>\n",
       "      <td>38.739300</td>\n",
       "      <td>38.739300</td>\n",
       "      <td>742.0</td>\n",
       "      <td>0.0</td>\n",
       "    </tr>\n",
       "    <tr>\n",
       "      <th>1167</th>\n",
       "      <td>1196</td>\n",
       "      <td>41.504200</td>\n",
       "      <td>41.109200</td>\n",
       "      <td>41.109200</td>\n",
       "      <td>40.714199</td>\n",
       "      <td>40.319199</td>\n",
       "      <td>39.924198</td>\n",
       "      <td>39.134300</td>\n",
       "      <td>39.134300</td>\n",
       "      <td>38.739300</td>\n",
       "      <td>...</td>\n",
       "      <td>37.159401</td>\n",
       "      <td>37.159401</td>\n",
       "      <td>37.159401</td>\n",
       "      <td>37.159401</td>\n",
       "      <td>37.159401</td>\n",
       "      <td>37.159401</td>\n",
       "      <td>37.159401</td>\n",
       "      <td>37.159401</td>\n",
       "      <td>743.0</td>\n",
       "      <td>0.0</td>\n",
       "    </tr>\n",
       "    <tr>\n",
       "      <th>1168</th>\n",
       "      <td>1197</td>\n",
       "      <td>-1.153980</td>\n",
       "      <td>-1.153980</td>\n",
       "      <td>-1.153980</td>\n",
       "      <td>-1.153980</td>\n",
       "      <td>-1.153980</td>\n",
       "      <td>-1.153980</td>\n",
       "      <td>-1.548960</td>\n",
       "      <td>-1.153980</td>\n",
       "      <td>-1.548960</td>\n",
       "      <td>...</td>\n",
       "      <td>-1.153980</td>\n",
       "      <td>-1.153980</td>\n",
       "      <td>-0.758994</td>\n",
       "      <td>-1.153980</td>\n",
       "      <td>-1.153980</td>\n",
       "      <td>-1.548960</td>\n",
       "      <td>-1.153980</td>\n",
       "      <td>-1.153980</td>\n",
       "      <td>743.0</td>\n",
       "      <td>0.0</td>\n",
       "    </tr>\n",
       "    <tr>\n",
       "      <th>1169</th>\n",
       "      <td>1198</td>\n",
       "      <td>36.369400</td>\n",
       "      <td>36.369400</td>\n",
       "      <td>35.974400</td>\n",
       "      <td>35.974400</td>\n",
       "      <td>35.974400</td>\n",
       "      <td>35.974400</td>\n",
       "      <td>35.974400</td>\n",
       "      <td>36.369400</td>\n",
       "      <td>35.974400</td>\n",
       "      <td>...</td>\n",
       "      <td>35.579399</td>\n",
       "      <td>35.579399</td>\n",
       "      <td>35.579399</td>\n",
       "      <td>35.579399</td>\n",
       "      <td>35.579399</td>\n",
       "      <td>35.579399</td>\n",
       "      <td>35.579399</td>\n",
       "      <td>35.579399</td>\n",
       "      <td>743.0</td>\n",
       "      <td>0.0</td>\n",
       "    </tr>\n",
       "    <tr>\n",
       "      <th>1170</th>\n",
       "      <td>1199</td>\n",
       "      <td>37.159401</td>\n",
       "      <td>37.159401</td>\n",
       "      <td>37.159401</td>\n",
       "      <td>37.159401</td>\n",
       "      <td>36.764400</td>\n",
       "      <td>36.369400</td>\n",
       "      <td>35.184399</td>\n",
       "      <td>34.789501</td>\n",
       "      <td>33.604500</td>\n",
       "      <td>...</td>\n",
       "      <td>24.519899</td>\n",
       "      <td>24.519899</td>\n",
       "      <td>25.309900</td>\n",
       "      <td>25.309900</td>\n",
       "      <td>26.099800</td>\n",
       "      <td>26.494801</td>\n",
       "      <td>27.284800</td>\n",
       "      <td>27.679800</td>\n",
       "      <td>744.0</td>\n",
       "      <td>0.0</td>\n",
       "    </tr>\n",
       "  </tbody>\n",
       "</table>\n",
       "<p>1171 rows × 303 columns</p>\n",
       "</div>"
      ],
      "text/plain": [
       "      index          0          1          2          3          4          5  \\\n",
       "0         0  62.438301  62.043301  62.438301  61.648300  61.253300  60.463299   \n",
       "1         1  39.924198  42.689098  44.664001  46.638901  49.008801  50.193802   \n",
       "2         2  23.334999  23.729900  24.519899  25.309900  26.494801  28.074800   \n",
       "3         3  57.698502  57.303501  55.723499  54.538601  53.353699  51.773701   \n",
       "4         4  26.494801  28.074800  30.049700  32.024601  34.394501  37.159401   \n",
       "...     ...        ...        ...        ...        ...        ...        ...   \n",
       "1166   1195  43.874100  43.084099  42.689098  41.899200  41.504200  40.714199   \n",
       "1167   1196  41.504200  41.109200  41.109200  40.714199  40.319199  39.924198   \n",
       "1168   1197  -1.153980  -1.153980  -1.153980  -1.153980  -1.153980  -1.153980   \n",
       "1169   1198  36.369400  36.369400  35.974400  35.974400  35.974400  35.974400   \n",
       "1170   1199  37.159401  37.159401  37.159401  37.159401  36.764400  36.369400   \n",
       "\n",
       "              6          7          8  ...        292        293        294  \\\n",
       "0     59.278400  57.303501  56.513500  ...  39.529301  38.344299  37.949299   \n",
       "1     51.773701  53.353699  54.143600  ...  54.143600  55.328602  56.118500   \n",
       "2     30.444599  32.814499  35.579399  ...  52.168701  52.958698  54.933601   \n",
       "3     49.798801  47.823898  45.453999  ...  60.463299  59.673401  59.278400   \n",
       "4     40.319199  43.479099  47.033901  ...  56.118500  55.328602  54.143600   \n",
       "...         ...        ...        ...  ...        ...        ...        ...   \n",
       "1166  40.319199  39.924198  39.529301  ...  39.924198  39.924198  39.924198   \n",
       "1167  39.134300  39.134300  38.739300  ...  37.159401  37.159401  37.159401   \n",
       "1168  -1.548960  -1.153980  -1.548960  ...  -1.153980  -1.153980  -0.758994   \n",
       "1169  35.974400  36.369400  35.974400  ...  35.579399  35.579399  35.579399   \n",
       "1170  35.184399  34.789501  33.604500  ...  24.519899  24.519899  25.309900   \n",
       "\n",
       "            295        296        297        298        299  caseid  label  \n",
       "0     37.159401  36.369400  35.579399  34.789501  33.999500     1.0   -1.0  \n",
       "1     56.513500  56.118500  56.908501  56.908501  56.908501     1.0   -1.0  \n",
       "2     56.513500  56.908501  57.303501  58.093399  58.093399     1.0    0.0  \n",
       "3     57.698502  56.908501  55.328602  53.748600  51.378700     4.0    0.0  \n",
       "4     52.563702  51.378700  50.193802  47.823898  45.453999     4.0    0.0  \n",
       "...         ...        ...        ...        ...        ...     ...    ...  \n",
       "1166  39.529301  39.529301  39.134300  38.739300  38.739300   742.0    0.0  \n",
       "1167  37.159401  37.159401  37.159401  37.159401  37.159401   743.0    0.0  \n",
       "1168  -1.153980  -1.153980  -1.548960  -1.153980  -1.153980   743.0    0.0  \n",
       "1169  35.579399  35.579399  35.579399  35.579399  35.579399   743.0    0.0  \n",
       "1170  25.309900  26.099800  26.494801  27.284800  27.679800   744.0    0.0  \n",
       "\n",
       "[1171 rows x 303 columns]"
      ]
     },
     "execution_count": 45,
     "metadata": {},
     "output_type": "execute_result"
    }
   ],
   "source": [
    "df_ppg_bp_sig"
   ]
  },
  {
   "cell_type": "code",
   "execution_count": 46,
   "metadata": {},
   "outputs": [],
   "source": [
    "df_ecg_bp_sig['index'] = np.array(df_ppg_bp_sig['index'])"
   ]
  },
  {
   "cell_type": "code",
   "execution_count": 47,
   "metadata": {},
   "outputs": [
    {
     "data": {
      "text/html": [
       "<div>\n",
       "<style scoped>\n",
       "    .dataframe tbody tr th:only-of-type {\n",
       "        vertical-align: middle;\n",
       "    }\n",
       "\n",
       "    .dataframe tbody tr th {\n",
       "        vertical-align: top;\n",
       "    }\n",
       "\n",
       "    .dataframe thead th {\n",
       "        text-align: right;\n",
       "    }\n",
       "</style>\n",
       "<table border=\"1\" class=\"dataframe\">\n",
       "  <thead>\n",
       "    <tr style=\"text-align: right;\">\n",
       "      <th></th>\n",
       "      <th>0</th>\n",
       "      <th>1</th>\n",
       "      <th>2</th>\n",
       "      <th>3</th>\n",
       "      <th>4</th>\n",
       "      <th>5</th>\n",
       "      <th>6</th>\n",
       "      <th>7</th>\n",
       "      <th>8</th>\n",
       "      <th>9</th>\n",
       "      <th>...</th>\n",
       "      <th>293</th>\n",
       "      <th>294</th>\n",
       "      <th>295</th>\n",
       "      <th>296</th>\n",
       "      <th>297</th>\n",
       "      <th>298</th>\n",
       "      <th>299</th>\n",
       "      <th>caseid</th>\n",
       "      <th>label</th>\n",
       "      <th>index</th>\n",
       "    </tr>\n",
       "  </thead>\n",
       "  <tbody>\n",
       "    <tr>\n",
       "      <th>0</th>\n",
       "      <td>5.145430</td>\n",
       "      <td>5.145430</td>\n",
       "      <td>5.145430</td>\n",
       "      <td>5.145430</td>\n",
       "      <td>5.145430</td>\n",
       "      <td>5.145430</td>\n",
       "      <td>0.958608</td>\n",
       "      <td>-4.956260</td>\n",
       "      <td>-4.956260</td>\n",
       "      <td>-4.956260</td>\n",
       "      <td>...</td>\n",
       "      <td>-0.344836</td>\n",
       "      <td>0.247639</td>\n",
       "      <td>0.060022</td>\n",
       "      <td>-0.255965</td>\n",
       "      <td>0.405632</td>\n",
       "      <td>-0.344836</td>\n",
       "      <td>0.247639</td>\n",
       "      <td>1.0</td>\n",
       "      <td>-1.0</td>\n",
       "      <td>0</td>\n",
       "    </tr>\n",
       "    <tr>\n",
       "      <th>1</th>\n",
       "      <td>0.148893</td>\n",
       "      <td>-0.009100</td>\n",
       "      <td>-0.068348</td>\n",
       "      <td>-0.088097</td>\n",
       "      <td>-0.107846</td>\n",
       "      <td>-0.107846</td>\n",
       "      <td>-0.107846</td>\n",
       "      <td>-0.097971</td>\n",
       "      <td>-0.107846</td>\n",
       "      <td>-0.078222</td>\n",
       "      <td>...</td>\n",
       "      <td>-0.038724</td>\n",
       "      <td>-0.028849</td>\n",
       "      <td>-0.048599</td>\n",
       "      <td>-0.048599</td>\n",
       "      <td>-0.028849</td>\n",
       "      <td>-0.018975</td>\n",
       "      <td>-0.028849</td>\n",
       "      <td>1.0</td>\n",
       "      <td>-1.0</td>\n",
       "      <td>1</td>\n",
       "    </tr>\n",
       "    <tr>\n",
       "      <th>2</th>\n",
       "      <td>-0.394209</td>\n",
       "      <td>0.346384</td>\n",
       "      <td>-0.097971</td>\n",
       "      <td>-0.088097</td>\n",
       "      <td>0.356259</td>\n",
       "      <td>-0.404083</td>\n",
       "      <td>0.356259</td>\n",
       "      <td>-0.117721</td>\n",
       "      <td>-0.038724</td>\n",
       "      <td>0.385883</td>\n",
       "      <td>...</td>\n",
       "      <td>5.145430</td>\n",
       "      <td>5.145430</td>\n",
       "      <td>5.145430</td>\n",
       "      <td>5.145430</td>\n",
       "      <td>5.145430</td>\n",
       "      <td>5.145430</td>\n",
       "      <td>5.145430</td>\n",
       "      <td>1.0</td>\n",
       "      <td>0.0</td>\n",
       "      <td>2</td>\n",
       "    </tr>\n",
       "    <tr>\n",
       "      <th>3</th>\n",
       "      <td>0.030398</td>\n",
       "      <td>0.040273</td>\n",
       "      <td>0.050147</td>\n",
       "      <td>0.060022</td>\n",
       "      <td>0.069896</td>\n",
       "      <td>0.089645</td>\n",
       "      <td>0.119269</td>\n",
       "      <td>0.148893</td>\n",
       "      <td>0.188391</td>\n",
       "      <td>0.227889</td>\n",
       "      <td>...</td>\n",
       "      <td>0.099520</td>\n",
       "      <td>0.119269</td>\n",
       "      <td>0.139018</td>\n",
       "      <td>0.198266</td>\n",
       "      <td>0.227889</td>\n",
       "      <td>0.277262</td>\n",
       "      <td>0.326635</td>\n",
       "      <td>4.0</td>\n",
       "      <td>0.0</td>\n",
       "      <td>3</td>\n",
       "    </tr>\n",
       "    <tr>\n",
       "      <th>4</th>\n",
       "      <td>-0.137470</td>\n",
       "      <td>-0.157219</td>\n",
       "      <td>-0.206592</td>\n",
       "      <td>-0.097971</td>\n",
       "      <td>0.297011</td>\n",
       "      <td>0.682120</td>\n",
       "      <td>0.682120</td>\n",
       "      <td>0.287137</td>\n",
       "      <td>-0.127595</td>\n",
       "      <td>-0.305337</td>\n",
       "      <td>...</td>\n",
       "      <td>0.060022</td>\n",
       "      <td>0.119269</td>\n",
       "      <td>0.148893</td>\n",
       "      <td>0.178517</td>\n",
       "      <td>0.208140</td>\n",
       "      <td>0.208140</td>\n",
       "      <td>0.198266</td>\n",
       "      <td>4.0</td>\n",
       "      <td>0.0</td>\n",
       "      <td>4</td>\n",
       "    </tr>\n",
       "    <tr>\n",
       "      <th>...</th>\n",
       "      <td>...</td>\n",
       "      <td>...</td>\n",
       "      <td>...</td>\n",
       "      <td>...</td>\n",
       "      <td>...</td>\n",
       "      <td>...</td>\n",
       "      <td>...</td>\n",
       "      <td>...</td>\n",
       "      <td>...</td>\n",
       "      <td>...</td>\n",
       "      <td>...</td>\n",
       "      <td>...</td>\n",
       "      <td>...</td>\n",
       "      <td>...</td>\n",
       "      <td>...</td>\n",
       "      <td>...</td>\n",
       "      <td>...</td>\n",
       "      <td>...</td>\n",
       "      <td>...</td>\n",
       "      <td>...</td>\n",
       "      <td>...</td>\n",
       "    </tr>\n",
       "    <tr>\n",
       "      <th>1195</th>\n",
       "      <td>0.770991</td>\n",
       "      <td>0.741367</td>\n",
       "      <td>0.208140</td>\n",
       "      <td>-0.058473</td>\n",
       "      <td>-0.009100</td>\n",
       "      <td>0.069896</td>\n",
       "      <td>0.079771</td>\n",
       "      <td>0.069896</td>\n",
       "      <td>0.060022</td>\n",
       "      <td>0.069896</td>\n",
       "      <td>...</td>\n",
       "      <td>0.099520</td>\n",
       "      <td>0.109395</td>\n",
       "      <td>0.129144</td>\n",
       "      <td>0.148893</td>\n",
       "      <td>0.168642</td>\n",
       "      <td>0.198266</td>\n",
       "      <td>0.227889</td>\n",
       "      <td>742.0</td>\n",
       "      <td>0.0</td>\n",
       "      <td>1195</td>\n",
       "    </tr>\n",
       "    <tr>\n",
       "      <th>1196</th>\n",
       "      <td>0.020523</td>\n",
       "      <td>-0.009100</td>\n",
       "      <td>-0.038724</td>\n",
       "      <td>-0.058473</td>\n",
       "      <td>-0.058473</td>\n",
       "      <td>-0.058473</td>\n",
       "      <td>-0.048599</td>\n",
       "      <td>-0.068348</td>\n",
       "      <td>-0.117721</td>\n",
       "      <td>-0.058473</td>\n",
       "      <td>...</td>\n",
       "      <td>0.000774</td>\n",
       "      <td>0.000774</td>\n",
       "      <td>0.000774</td>\n",
       "      <td>0.020523</td>\n",
       "      <td>0.030398</td>\n",
       "      <td>0.040273</td>\n",
       "      <td>0.060022</td>\n",
       "      <td>743.0</td>\n",
       "      <td>0.0</td>\n",
       "      <td>1196</td>\n",
       "    </tr>\n",
       "    <tr>\n",
       "      <th>1197</th>\n",
       "      <td>0.040273</td>\n",
       "      <td>-0.186843</td>\n",
       "      <td>-0.078222</td>\n",
       "      <td>0.030398</td>\n",
       "      <td>0.050147</td>\n",
       "      <td>0.030398</td>\n",
       "      <td>0.030398</td>\n",
       "      <td>0.040273</td>\n",
       "      <td>0.050147</td>\n",
       "      <td>0.050147</td>\n",
       "      <td>...</td>\n",
       "      <td>0.553750</td>\n",
       "      <td>0.593248</td>\n",
       "      <td>0.622872</td>\n",
       "      <td>0.632747</td>\n",
       "      <td>0.622872</td>\n",
       "      <td>0.573499</td>\n",
       "      <td>0.484628</td>\n",
       "      <td>743.0</td>\n",
       "      <td>0.0</td>\n",
       "      <td>1197</td>\n",
       "    </tr>\n",
       "    <tr>\n",
       "      <th>1198</th>\n",
       "      <td>0.445130</td>\n",
       "      <td>0.464879</td>\n",
       "      <td>0.484628</td>\n",
       "      <td>0.484628</td>\n",
       "      <td>0.474754</td>\n",
       "      <td>0.464879</td>\n",
       "      <td>0.415506</td>\n",
       "      <td>0.346384</td>\n",
       "      <td>0.267388</td>\n",
       "      <td>0.198266</td>\n",
       "      <td>...</td>\n",
       "      <td>0.168642</td>\n",
       "      <td>0.099520</td>\n",
       "      <td>0.050147</td>\n",
       "      <td>0.010649</td>\n",
       "      <td>-0.009100</td>\n",
       "      <td>-0.009100</td>\n",
       "      <td>0.000774</td>\n",
       "      <td>743.0</td>\n",
       "      <td>0.0</td>\n",
       "      <td>1198</td>\n",
       "    </tr>\n",
       "    <tr>\n",
       "      <th>1199</th>\n",
       "      <td>0.257513</td>\n",
       "      <td>0.237764</td>\n",
       "      <td>0.237764</td>\n",
       "      <td>0.267388</td>\n",
       "      <td>0.237764</td>\n",
       "      <td>0.198266</td>\n",
       "      <td>0.198266</td>\n",
       "      <td>0.178517</td>\n",
       "      <td>0.178517</td>\n",
       "      <td>0.178517</td>\n",
       "      <td>...</td>\n",
       "      <td>0.316761</td>\n",
       "      <td>0.297011</td>\n",
       "      <td>0.277262</td>\n",
       "      <td>0.267388</td>\n",
       "      <td>0.277262</td>\n",
       "      <td>0.287137</td>\n",
       "      <td>0.306886</td>\n",
       "      <td>744.0</td>\n",
       "      <td>0.0</td>\n",
       "      <td>1199</td>\n",
       "    </tr>\n",
       "  </tbody>\n",
       "</table>\n",
       "<p>1171 rows × 303 columns</p>\n",
       "</div>"
      ],
      "text/plain": [
       "             0         1         2         3         4         5         6  \\\n",
       "0     5.145430  5.145430  5.145430  5.145430  5.145430  5.145430  0.958608   \n",
       "1     0.148893 -0.009100 -0.068348 -0.088097 -0.107846 -0.107846 -0.107846   \n",
       "2    -0.394209  0.346384 -0.097971 -0.088097  0.356259 -0.404083  0.356259   \n",
       "3     0.030398  0.040273  0.050147  0.060022  0.069896  0.089645  0.119269   \n",
       "4    -0.137470 -0.157219 -0.206592 -0.097971  0.297011  0.682120  0.682120   \n",
       "...        ...       ...       ...       ...       ...       ...       ...   \n",
       "1195  0.770991  0.741367  0.208140 -0.058473 -0.009100  0.069896  0.079771   \n",
       "1196  0.020523 -0.009100 -0.038724 -0.058473 -0.058473 -0.058473 -0.048599   \n",
       "1197  0.040273 -0.186843 -0.078222  0.030398  0.050147  0.030398  0.030398   \n",
       "1198  0.445130  0.464879  0.484628  0.484628  0.474754  0.464879  0.415506   \n",
       "1199  0.257513  0.237764  0.237764  0.267388  0.237764  0.198266  0.198266   \n",
       "\n",
       "             7         8         9  ...       293       294       295  \\\n",
       "0    -4.956260 -4.956260 -4.956260  ... -0.344836  0.247639  0.060022   \n",
       "1    -0.097971 -0.107846 -0.078222  ... -0.038724 -0.028849 -0.048599   \n",
       "2    -0.117721 -0.038724  0.385883  ...  5.145430  5.145430  5.145430   \n",
       "3     0.148893  0.188391  0.227889  ...  0.099520  0.119269  0.139018   \n",
       "4     0.287137 -0.127595 -0.305337  ...  0.060022  0.119269  0.148893   \n",
       "...        ...       ...       ...  ...       ...       ...       ...   \n",
       "1195  0.069896  0.060022  0.069896  ...  0.099520  0.109395  0.129144   \n",
       "1196 -0.068348 -0.117721 -0.058473  ...  0.000774  0.000774  0.000774   \n",
       "1197  0.040273  0.050147  0.050147  ...  0.553750  0.593248  0.622872   \n",
       "1198  0.346384  0.267388  0.198266  ...  0.168642  0.099520  0.050147   \n",
       "1199  0.178517  0.178517  0.178517  ...  0.316761  0.297011  0.277262   \n",
       "\n",
       "           296       297       298       299  caseid  label  index  \n",
       "0    -0.255965  0.405632 -0.344836  0.247639     1.0   -1.0      0  \n",
       "1    -0.048599 -0.028849 -0.018975 -0.028849     1.0   -1.0      1  \n",
       "2     5.145430  5.145430  5.145430  5.145430     1.0    0.0      2  \n",
       "3     0.198266  0.227889  0.277262  0.326635     4.0    0.0      3  \n",
       "4     0.178517  0.208140  0.208140  0.198266     4.0    0.0      4  \n",
       "...        ...       ...       ...       ...     ...    ...    ...  \n",
       "1195  0.148893  0.168642  0.198266  0.227889   742.0    0.0   1195  \n",
       "1196  0.020523  0.030398  0.040273  0.060022   743.0    0.0   1196  \n",
       "1197  0.632747  0.622872  0.573499  0.484628   743.0    0.0   1197  \n",
       "1198  0.010649 -0.009100 -0.009100  0.000774   743.0    0.0   1198  \n",
       "1199  0.267388  0.277262  0.287137  0.306886   744.0    0.0   1199  \n",
       "\n",
       "[1171 rows x 303 columns]"
      ]
     },
     "execution_count": 47,
     "metadata": {},
     "output_type": "execute_result"
    }
   ],
   "source": [
    "df_ecg_bp_sig"
   ]
  },
  {
   "cell_type": "code",
   "execution_count": 48,
   "metadata": {},
   "outputs": [],
   "source": [
    "train_data_ppg, valid_data_ppg, train_labels_ppg, valid_labels_ppg = train_test_split(\n",
    "    df_ppg_bp_sig, y_train_ppg, test_size=0.3, random_state=42, stratify=y_train_ppg\n",
    ")"
   ]
  },
  {
   "cell_type": "code",
   "execution_count": 49,
   "metadata": {},
   "outputs": [],
   "source": [
    "valid_data_ppg, test_data_ppg, valid_labels_ppg, test_labels_ppg = train_test_split(\n",
    "    valid_data_ppg, valid_labels_ppg, test_size=0.3, random_state=42, stratify=valid_labels_ppg\n",
    ")"
   ]
  },
  {
   "cell_type": "code",
   "execution_count": 50,
   "metadata": {},
   "outputs": [
    {
     "name": "stdout",
     "output_type": "stream",
     "text": [
      "819 246 106 819 246 106\n"
     ]
    }
   ],
   "source": [
    "print(len(train_data_ppg), len(valid_data_ppg), len(test_data_ppg) ,len(train_labels_ppg),len(valid_labels_ppg), len(test_labels_ppg))"
   ]
  },
  {
   "cell_type": "code",
   "execution_count": 51,
   "metadata": {},
   "outputs": [],
   "source": [
    "train_data_id = list(train_data_ppg['index'])"
   ]
  },
  {
   "cell_type": "code",
   "execution_count": 52,
   "metadata": {},
   "outputs": [
    {
     "data": {
      "text/plain": [
       "819"
      ]
     },
     "execution_count": 52,
     "metadata": {},
     "output_type": "execute_result"
    }
   ],
   "source": [
    "len(train_data_id)"
   ]
  },
  {
   "cell_type": "code",
   "execution_count": 53,
   "metadata": {},
   "outputs": [],
   "source": [
    "valid_data_id = list(valid_data_ppg['index'])"
   ]
  },
  {
   "cell_type": "code",
   "execution_count": 54,
   "metadata": {},
   "outputs": [],
   "source": [
    "test_data_id = list(test_data_ppg['index'])"
   ]
  },
  {
   "cell_type": "markdown",
   "metadata": {},
   "source": [
    "* ecg"
   ]
  },
  {
   "cell_type": "code",
   "execution_count": 55,
   "metadata": {},
   "outputs": [],
   "source": [
    "y_train_ecg = list(df_ecg['label'].map(lambda x : 0 if x == 0 else 1))"
   ]
  },
  {
   "cell_type": "code",
   "execution_count": 56,
   "metadata": {},
   "outputs": [],
   "source": [
    "train_data_ecg = df_ecg_bp_sig[df_ecg_bp_sig['index'].map(lambda x : x in train_data_id)]"
   ]
  },
  {
   "cell_type": "code",
   "execution_count": 57,
   "metadata": {},
   "outputs": [],
   "source": [
    "train_labels_ecg = list(df_ecg_bp_sig[df_ecg_bp_sig['index'].map(lambda x : x in train_data_id)]['label'])"
   ]
  },
  {
   "cell_type": "code",
   "execution_count": 58,
   "metadata": {},
   "outputs": [],
   "source": [
    "valid_data_ecg = df_ecg_bp_sig[df_ecg_bp_sig['index'].map(lambda x : x in valid_data_id)]"
   ]
  },
  {
   "cell_type": "code",
   "execution_count": 59,
   "metadata": {},
   "outputs": [],
   "source": [
    "valid_labels_ecg = list(df_ecg_bp_sig[df_ecg_bp_sig['index'].map(lambda x : x in valid_data_id)]['label'])"
   ]
  },
  {
   "cell_type": "code",
   "execution_count": 60,
   "metadata": {},
   "outputs": [],
   "source": [
    "test_data_ecg = df_ecg_bp_sig[df_ecg_bp_sig['index'].map(lambda x : x in test_data_id)]"
   ]
  },
  {
   "cell_type": "code",
   "execution_count": 61,
   "metadata": {},
   "outputs": [],
   "source": [
    "test_labels_ecg = list(df_ecg_bp_sig[df_ecg_bp_sig['index'].map(lambda x : x in test_data_id)]['label'])"
   ]
  },
  {
   "cell_type": "code",
   "execution_count": 62,
   "metadata": {},
   "outputs": [
    {
     "name": "stdout",
     "output_type": "stream",
     "text": [
      "819 246 106 819 246 106\n"
     ]
    }
   ],
   "source": [
    "print(len(train_data_ppg), len(valid_data_ppg), len(test_data_ppg) ,len(train_labels_ppg),len(valid_labels_ppg), len(test_labels_ppg))"
   ]
  },
  {
   "cell_type": "code",
   "execution_count": 63,
   "metadata": {},
   "outputs": [
    {
     "name": "stdout",
     "output_type": "stream",
     "text": [
      "819 246 106 819 246 106\n"
     ]
    }
   ],
   "source": [
    "print(len(train_data_ecg), len(valid_data_ecg), len(test_data_ecg) ,len(train_labels_ecg),len(valid_labels_ecg), len(test_labels_ecg))"
   ]
  },
  {
   "cell_type": "markdown",
   "metadata": {},
   "source": [
    "* data set setting"
   ]
  },
  {
   "cell_type": "code",
   "execution_count": 64,
   "metadata": {},
   "outputs": [],
   "source": [
    "train_data_ppg = train_data_ppg.drop(['index', 'caseid', 'label'], axis =1).values"
   ]
  },
  {
   "cell_type": "code",
   "execution_count": 65,
   "metadata": {},
   "outputs": [],
   "source": [
    "valid_data_ppg = valid_data_ppg.drop(['index','caseid', 'label'], axis =1).values"
   ]
  },
  {
   "cell_type": "code",
   "execution_count": 66,
   "metadata": {},
   "outputs": [],
   "source": [
    "test_data_ppg = test_data_ppg.drop(['index','caseid', 'label'], axis =1).values"
   ]
  },
  {
   "cell_type": "code",
   "execution_count": 67,
   "metadata": {},
   "outputs": [],
   "source": [
    "train_data_ecg = train_data_ecg.drop(['index','caseid', 'label'], axis =1).values"
   ]
  },
  {
   "cell_type": "code",
   "execution_count": 68,
   "metadata": {},
   "outputs": [],
   "source": [
    "valid_data_ecg = valid_data_ecg.drop(['index','caseid', 'label'], axis =1).values"
   ]
  },
  {
   "cell_type": "code",
   "execution_count": 69,
   "metadata": {},
   "outputs": [],
   "source": [
    "test_data_ecg = test_data_ecg.drop(['index','caseid', 'label'], axis =1).values"
   ]
  },
  {
   "cell_type": "markdown",
   "metadata": {},
   "source": [
    "### MinMax Scaling"
   ]
  },
  {
   "cell_type": "markdown",
   "metadata": {},
   "source": [
    "* ppg"
   ]
  },
  {
   "cell_type": "code",
   "execution_count": 71,
   "metadata": {},
   "outputs": [],
   "source": [
    "# minmaxnormalization\n",
    "min_ppg = np.min(np.float32(train_data_ppg))\n",
    "# max\n",
    "max_ppg = np.max(np.float32(train_data_ppg))"
   ]
  },
  {
   "cell_type": "code",
   "execution_count": 72,
   "metadata": {},
   "outputs": [],
   "source": [
    "train_data_ppg = (train_data_ppg - min_ppg) / (max_ppg - min_ppg)\n",
    "valid_data_ppg = (valid_data_ppg - min_ppg) / (max_ppg - min_ppg)\n",
    "test_data_ppg = (test_data_ppg - min_ppg) / (max_ppg - min_ppg)"
   ]
  },
  {
   "cell_type": "markdown",
   "metadata": {},
   "source": [
    "* ecg"
   ]
  },
  {
   "cell_type": "code",
   "execution_count": 74,
   "metadata": {},
   "outputs": [],
   "source": [
    "# minmaxnormalization\n",
    "min_ecg = np.min(np.float32(train_data_ecg))\n",
    "# max\n",
    "max_ecg = np.max(np.float32(train_data_ecg))"
   ]
  },
  {
   "cell_type": "code",
   "execution_count": 75,
   "metadata": {},
   "outputs": [],
   "source": [
    "train_data_ecg = (train_data_ecg - min_ecg) / (max_ecg - min_ecg)\n",
    "valid_data_ecg = (valid_data_ecg - min_ecg) / (max_ecg - min_ecg)\n",
    "test_data_ecg = (test_data_ecg - min_ecg) / (max_ecg - min_ecg)"
   ]
  },
  {
   "cell_type": "markdown",
   "metadata": {},
   "source": [
    "#### ppg ecg concat"
   ]
  },
  {
   "cell_type": "code",
   "execution_count": 76,
   "metadata": {},
   "outputs": [
    {
     "data": {
      "text/plain": [
       "(819, 300)"
      ]
     },
     "execution_count": 76,
     "metadata": {},
     "output_type": "execute_result"
    }
   ],
   "source": [
    "train_data_ppg.shape"
   ]
  },
  {
   "cell_type": "code",
   "execution_count": 77,
   "metadata": {},
   "outputs": [
    {
     "data": {
      "text/plain": [
       "(819, 300)"
      ]
     },
     "execution_count": 77,
     "metadata": {},
     "output_type": "execute_result"
    }
   ],
   "source": [
    "train_data_ppg.shape"
   ]
  },
  {
   "cell_type": "code",
   "execution_count": 78,
   "metadata": {},
   "outputs": [
    {
     "data": {
      "text/plain": [
       "(819, 300)"
      ]
     },
     "execution_count": 78,
     "metadata": {},
     "output_type": "execute_result"
    }
   ],
   "source": [
    "train_data_ecg.shape"
   ]
  },
  {
   "cell_type": "code",
   "execution_count": 79,
   "metadata": {},
   "outputs": [],
   "source": [
    "X_train = [train_data_ppg, train_data_ecg]"
   ]
  },
  {
   "cell_type": "code",
   "execution_count": 80,
   "metadata": {},
   "outputs": [],
   "source": [
    "X_train = np.asarray(X_train)\n",
    "y_train = np.asarray(train_labels_ppg)"
   ]
  },
  {
   "cell_type": "code",
   "execution_count": 81,
   "metadata": {},
   "outputs": [
    {
     "data": {
      "text/plain": [
       "(2, 819, 300)"
      ]
     },
     "execution_count": 81,
     "metadata": {},
     "output_type": "execute_result"
    }
   ],
   "source": [
    "X_train.shape"
   ]
  },
  {
   "cell_type": "code",
   "execution_count": 82,
   "metadata": {},
   "outputs": [],
   "source": [
    "X_train = X_train.reshape(819, 300, 2)"
   ]
  },
  {
   "cell_type": "code",
   "execution_count": 83,
   "metadata": {},
   "outputs": [],
   "source": [
    "X_valid = [valid_data_ppg, valid_data_ecg]"
   ]
  },
  {
   "cell_type": "code",
   "execution_count": 84,
   "metadata": {},
   "outputs": [],
   "source": [
    "X_valid = np.asarray(X_valid)\n",
    "y_valid = np.asarray(valid_labels_ppg)"
   ]
  },
  {
   "cell_type": "code",
   "execution_count": 85,
   "metadata": {},
   "outputs": [
    {
     "data": {
      "text/plain": [
       "(2, 246, 300)"
      ]
     },
     "execution_count": 85,
     "metadata": {},
     "output_type": "execute_result"
    }
   ],
   "source": [
    "X_valid.shape"
   ]
  },
  {
   "cell_type": "code",
   "execution_count": 86,
   "metadata": {},
   "outputs": [],
   "source": [
    "X_valid = X_valid.reshape(246, 300, 2)"
   ]
  },
  {
   "cell_type": "code",
   "execution_count": 87,
   "metadata": {},
   "outputs": [],
   "source": [
    "X_test = [test_data_ppg, test_data_ecg]"
   ]
  },
  {
   "cell_type": "code",
   "execution_count": 88,
   "metadata": {},
   "outputs": [],
   "source": [
    "X_test = np.asarray(X_test)\n",
    "y_test = np.asarray(test_labels_ppg)"
   ]
  },
  {
   "cell_type": "code",
   "execution_count": 89,
   "metadata": {},
   "outputs": [
    {
     "data": {
      "text/plain": [
       "(2, 106, 300)"
      ]
     },
     "execution_count": 89,
     "metadata": {},
     "output_type": "execute_result"
    }
   ],
   "source": [
    "X_test.shape"
   ]
  },
  {
   "cell_type": "code",
   "execution_count": 90,
   "metadata": {},
   "outputs": [],
   "source": [
    "X_test = X_test.reshape(106, 300, 2)"
   ]
  },
  {
   "cell_type": "code",
   "execution_count": 91,
   "metadata": {},
   "outputs": [
    {
     "data": {
      "text/plain": [
       "(106, 300, 2)"
      ]
     },
     "execution_count": 91,
     "metadata": {},
     "output_type": "execute_result"
    }
   ],
   "source": [
    "X_test.shape"
   ]
  },
  {
   "cell_type": "code",
   "execution_count": 106,
   "metadata": {},
   "outputs": [],
   "source": [
    "def ohe(x):\n",
    "    if x == 0:\n",
    "        k = [0, 1]\n",
    "    else:\n",
    "        k = [1, 0]\n",
    "        return k"
   ]
  },
  {
   "cell_type": "code",
   "execution_count": 107,
   "metadata": {},
   "outputs": [],
   "source": [
    "y_test_ohe = []\n",
    "for i in y_test:\n",
    "    if i == 0:\n",
    "        y_test_ohe.append([0, 1])\n",
    "    else:\n",
    "        y_test_ohe.append([1, 0])"
   ]
  },
  {
   "cell_type": "code",
   "execution_count": 108,
   "metadata": {},
   "outputs": [],
   "source": [
    "y_train_ohe = []\n",
    "for i in y_train:\n",
    "    if i == 0:\n",
    "        y_train_ohe.append([0, 1])\n",
    "    else:\n",
    "        y_train_ohe.append([1, 0])"
   ]
  },
  {
   "cell_type": "code",
   "execution_count": 109,
   "metadata": {},
   "outputs": [],
   "source": [
    "y_valid_ohe = []\n",
    "for i in y_valid:\n",
    "    if i == 0:\n",
    "        y_valid_ohe.append([0, 1])\n",
    "    else:\n",
    "        y_valid_ohe.append([1, 0])"
   ]
  },
  {
   "cell_type": "code",
   "execution_count": 117,
   "metadata": {},
   "outputs": [],
   "source": [
    "y_train_ohe = np.asarray(y_train_ohe)"
   ]
  },
  {
   "cell_type": "code",
   "execution_count": 118,
   "metadata": {},
   "outputs": [],
   "source": [
    "y_valid_ohe = np.asarray(y_valid_ohe)"
   ]
  },
  {
   "cell_type": "code",
   "execution_count": 119,
   "metadata": {},
   "outputs": [],
   "source": [
    "y_test_ohe = np.asarray(y_test_ohe)"
   ]
  },
  {
   "cell_type": "markdown",
   "metadata": {},
   "source": [
    "#### model"
   ]
  },
  {
   "cell_type": "code",
   "execution_count": 120,
   "metadata": {},
   "outputs": [],
   "source": [
    "from tensorflow.keras.models import Sequential\n",
    "from tensorflow.keras.layers import  Dropout, Conv1D, GlobalMaxPooling1D, Dense, BatchNormalization, ReLU, MaxPool1D, Flatten, LSTM, TimeDistributed, Softmax\n",
    "from tensorflow.keras.callbacks import EarlyStopping, ModelCheckpoint\n",
    "from tensorflow.keras.models import load_model\n",
    "from tensorflow.keras import layers"
   ]
  },
  {
   "cell_type": "code",
   "execution_count": 132,
   "metadata": {},
   "outputs": [],
   "source": [
    "model = Sequential()\n",
    "# conv1\n",
    "model.add(Conv1D(512, 32, padding='valid', strides=1,input_shape=(300, 2)))\n",
    "#model.add(BatchNormalization())\n",
    "model.add(ReLU())\n",
    "model.add(Conv1D(512, 32, padding='valid', strides=1,input_shape=(300, 2)))\n",
    "model.add(ReLU())\n",
    "model.add(Dropout(0.2))\n",
    "\n",
    "model.add(Conv1D(512, 32, padding='valid', strides=1,input_shape=(300, 2)))\n",
    "#model.add(BatchNormalization())\n",
    "model.add(ReLU())\n",
    "model.add(Conv1D(512, 32, padding='valid', strides=1,input_shape=(300, 2)))\n",
    "model.add(ReLU())\n",
    "model.add(MaxPool1D(2,strides=2))\n",
    "model.add(Dropout(0.2))\n",
    "\n",
    "# conv2\n",
    "model.add(Conv1D(64, 8, padding='same'))\n",
    "model.add(BatchNormalization())\n",
    "model.add(ReLU())\n",
    "model.add(MaxPool1D(2,strides=2))\n",
    "model.add(Dropout(0.3))\n",
    "\n",
    "# conv3\n",
    "model.add(Conv1D(128, 8, padding='same'))\n",
    "model.add(BatchNormalization())\n",
    "model.add(ReLU())\n",
    "model.add(MaxPool1D(2,strides=2))\n",
    "model.add(Dropout(0.3))\n",
    "\n",
    "# conv4\n",
    "model.add(Conv1D(128, 8, padding='same'))\n",
    "model.add(BatchNormalization())\n",
    "model.add(ReLU())\n",
    "model.add(MaxPool1D(2,strides=2))\n",
    "model.add(Dropout(0.3))\n",
    "\n",
    "# conv5\n",
    "model.add(Conv1D(256, 8, padding='same'))\n",
    "model.add(BatchNormalization())\n",
    "model.add(ReLU())\n",
    "model.add(MaxPool1D(2,strides=2))\n",
    "model.add(Dropout(0.3))\n",
    "\n",
    "\n",
    "# conv5\n",
    "model.add(Conv1D(256, 8, padding='same'))\n",
    "model.add(BatchNormalization())\n",
    "model.add(ReLU())\n",
    "model.add(MaxPool1D(2,strides=2))\n",
    "model.add(Dropout(0.3))\n",
    "\n",
    "model.add(GlobalMaxPooling1D())\n",
    "model.add(Dense(320))\n",
    "model.add(Dropout(0.3))\n",
    "model.add(Dense(2))\n",
    "model.add(Softmax(axis=-1))"
   ]
  },
  {
   "cell_type": "code",
   "execution_count": 133,
   "metadata": {},
   "outputs": [
    {
     "name": "stdout",
     "output_type": "stream",
     "text": [
      "Model: \"sequential_7\"\n",
      "_________________________________________________________________\n",
      " Layer (type)                Output Shape              Param #   \n",
      "=================================================================\n",
      " conv1d_63 (Conv1D)          (None, 269, 512)          33280     \n",
      "                                                                 \n",
      " re_lu_63 (ReLU)             (None, 269, 512)          0         \n",
      "                                                                 \n",
      " conv1d_64 (Conv1D)          (None, 238, 512)          8389120   \n",
      "                                                                 \n",
      " re_lu_64 (ReLU)             (None, 238, 512)          0         \n",
      "                                                                 \n",
      " dropout_56 (Dropout)        (None, 238, 512)          0         \n",
      "                                                                 \n",
      " conv1d_65 (Conv1D)          (None, 207, 512)          8389120   \n",
      "                                                                 \n",
      " re_lu_65 (ReLU)             (None, 207, 512)          0         \n",
      "                                                                 \n",
      " conv1d_66 (Conv1D)          (None, 176, 512)          8389120   \n",
      "                                                                 \n",
      " re_lu_66 (ReLU)             (None, 176, 512)          0         \n",
      "                                                                 \n",
      " max_pooling1d_42 (MaxPoolin  (None, 88, 512)          0         \n",
      " g1D)                                                            \n",
      "                                                                 \n",
      " dropout_57 (Dropout)        (None, 88, 512)           0         \n",
      "                                                                 \n",
      " conv1d_67 (Conv1D)          (None, 88, 64)            262208    \n",
      "                                                                 \n",
      " batch_normalization_35 (Bat  (None, 88, 64)           256       \n",
      " chNormalization)                                                \n",
      "                                                                 \n",
      " re_lu_67 (ReLU)             (None, 88, 64)            0         \n",
      "                                                                 \n",
      " max_pooling1d_43 (MaxPoolin  (None, 44, 64)           0         \n",
      " g1D)                                                            \n",
      "                                                                 \n",
      " dropout_58 (Dropout)        (None, 44, 64)            0         \n",
      "                                                                 \n",
      " conv1d_68 (Conv1D)          (None, 44, 128)           65664     \n",
      "                                                                 \n",
      " batch_normalization_36 (Bat  (None, 44, 128)          512       \n",
      " chNormalization)                                                \n",
      "                                                                 \n",
      " re_lu_68 (ReLU)             (None, 44, 128)           0         \n",
      "                                                                 \n",
      " max_pooling1d_44 (MaxPoolin  (None, 22, 128)          0         \n",
      " g1D)                                                            \n",
      "                                                                 \n",
      " dropout_59 (Dropout)        (None, 22, 128)           0         \n",
      "                                                                 \n",
      " conv1d_69 (Conv1D)          (None, 22, 128)           131200    \n",
      "                                                                 \n",
      " batch_normalization_37 (Bat  (None, 22, 128)          512       \n",
      " chNormalization)                                                \n",
      "                                                                 \n",
      " re_lu_69 (ReLU)             (None, 22, 128)           0         \n",
      "                                                                 \n",
      " max_pooling1d_45 (MaxPoolin  (None, 11, 128)          0         \n",
      " g1D)                                                            \n",
      "                                                                 \n",
      " dropout_60 (Dropout)        (None, 11, 128)           0         \n",
      "                                                                 \n",
      " conv1d_70 (Conv1D)          (None, 11, 256)           262400    \n",
      "                                                                 \n",
      " batch_normalization_38 (Bat  (None, 11, 256)          1024      \n",
      " chNormalization)                                                \n",
      "                                                                 \n",
      " re_lu_70 (ReLU)             (None, 11, 256)           0         \n",
      "                                                                 \n",
      " max_pooling1d_46 (MaxPoolin  (None, 5, 256)           0         \n",
      " g1D)                                                            \n",
      "                                                                 \n",
      " dropout_61 (Dropout)        (None, 5, 256)            0         \n",
      "                                                                 \n",
      " conv1d_71 (Conv1D)          (None, 5, 256)            524544    \n",
      "                                                                 \n",
      " batch_normalization_39 (Bat  (None, 5, 256)           1024      \n",
      " chNormalization)                                                \n",
      "                                                                 \n",
      " re_lu_71 (ReLU)             (None, 5, 256)            0         \n",
      "                                                                 \n",
      " max_pooling1d_47 (MaxPoolin  (None, 2, 256)           0         \n",
      " g1D)                                                            \n",
      "                                                                 \n",
      " dropout_62 (Dropout)        (None, 2, 256)            0         \n",
      "                                                                 \n",
      " global_max_pooling1d_7 (Glo  (None, 256)              0         \n",
      " balMaxPooling1D)                                                \n",
      "                                                                 \n",
      " dense_14 (Dense)            (None, 320)               82240     \n",
      "                                                                 \n",
      " dropout_63 (Dropout)        (None, 320)               0         \n",
      "                                                                 \n",
      " dense_15 (Dense)            (None, 2)                 642       \n",
      "                                                                 \n",
      " softmax_4 (Softmax)         (None, 2)                 0         \n",
      "                                                                 \n",
      "=================================================================\n",
      "Total params: 26,532,866\n",
      "Trainable params: 26,531,202\n",
      "Non-trainable params: 1,664\n",
      "_________________________________________________________________\n"
     ]
    }
   ],
   "source": [
    "model.summary()"
   ]
  },
  {
   "cell_type": "code",
   "execution_count": 134,
   "metadata": {},
   "outputs": [
    {
     "data": {
      "text/plain": [
       "'import tensorflow as tf\\ninitial_learning_rate = 0.001\\nlr_schedule = tf.keras.optimizers.schedules.ExponentialDecay(\\n    initial_learning_rate,\\n    decay_steps=100000,\\n    decay_rate=0.96,\\n    staircase=True)'"
      ]
     },
     "execution_count": 134,
     "metadata": {},
     "output_type": "execute_result"
    }
   ],
   "source": [
    "'''import tensorflow as tf\n",
    "initial_learning_rate = 0.001\n",
    "lr_schedule = tf.keras.optimizers.schedules.ExponentialDecay(\n",
    "    initial_learning_rate,\n",
    "    decay_steps=100000,\n",
    "    decay_rate=0.96,\n",
    "    staircase=True)'''"
   ]
  },
  {
   "cell_type": "code",
   "execution_count": 135,
   "metadata": {},
   "outputs": [],
   "source": [
    "opt = tf.keras.optimizers.SGD(learning_rate=0.001)"
   ]
  },
  {
   "cell_type": "code",
   "execution_count": 136,
   "metadata": {},
   "outputs": [],
   "source": [
    "model.compile(optimizer=opt, loss='categorical_crossentropy', metrics=['acc'])"
   ]
  },
  {
   "cell_type": "code",
   "execution_count": 137,
   "metadata": {},
   "outputs": [
    {
     "name": "stdout",
     "output_type": "stream",
     "text": [
      "Epoch 1/200\n",
      "52/52 [==============================] - 2s 20ms/step - loss: 0.7741 - acc: 0.7521 - val_loss: 0.5345 - val_acc: 0.8455\n",
      "Epoch 2/200\n",
      "52/52 [==============================] - 1s 18ms/step - loss: 0.7874 - acc: 0.7595 - val_loss: 0.4766 - val_acc: 0.8455\n",
      "Epoch 3/200\n",
      "52/52 [==============================] - 1s 18ms/step - loss: 0.7006 - acc: 0.7802 - val_loss: 0.4511 - val_acc: 0.8455\n",
      "Epoch 4/200\n",
      "52/52 [==============================] - 1s 18ms/step - loss: 0.6912 - acc: 0.7607 - val_loss: 0.4336 - val_acc: 0.8455\n",
      "Epoch 5/200\n",
      "52/52 [==============================] - 1s 18ms/step - loss: 0.7083 - acc: 0.7839 - val_loss: 0.4305 - val_acc: 0.8455\n",
      "Epoch 6/200\n",
      "52/52 [==============================] - 1s 18ms/step - loss: 0.6321 - acc: 0.7753 - val_loss: 0.4332 - val_acc: 0.8455\n",
      "Epoch 7/200\n",
      "52/52 [==============================] - 1s 18ms/step - loss: 0.7114 - acc: 0.7814 - val_loss: 0.4327 - val_acc: 0.8455\n",
      "Epoch 8/200\n",
      "52/52 [==============================] - 1s 18ms/step - loss: 0.6414 - acc: 0.8071 - val_loss: 0.4605 - val_acc: 0.8455\n",
      "Epoch 9/200\n",
      "52/52 [==============================] - 1s 18ms/step - loss: 0.6061 - acc: 0.7814 - val_loss: 0.4598 - val_acc: 0.8455\n",
      "Epoch 10/200\n",
      "52/52 [==============================] - 1s 18ms/step - loss: 0.6367 - acc: 0.7900 - val_loss: 0.4710 - val_acc: 0.8455\n",
      "Epoch 11/200\n",
      "52/52 [==============================] - 1s 18ms/step - loss: 0.6402 - acc: 0.7949 - val_loss: 0.4509 - val_acc: 0.8455\n",
      "Epoch 12/200\n",
      "52/52 [==============================] - 1s 18ms/step - loss: 0.6130 - acc: 0.7961 - val_loss: 0.4353 - val_acc: 0.8455\n",
      "Epoch 13/200\n",
      "52/52 [==============================] - 1s 18ms/step - loss: 0.6383 - acc: 0.7839 - val_loss: 0.4373 - val_acc: 0.8455\n",
      "Epoch 14/200\n",
      "52/52 [==============================] - 1s 18ms/step - loss: 0.5844 - acc: 0.8107 - val_loss: 0.4431 - val_acc: 0.8455\n",
      "Epoch 15/200\n",
      "52/52 [==============================] - 1s 18ms/step - loss: 0.6136 - acc: 0.8083 - val_loss: 0.4515 - val_acc: 0.8455\n",
      "Epoch 16/200\n",
      "52/52 [==============================] - 1s 18ms/step - loss: 0.5629 - acc: 0.8022 - val_loss: 0.4436 - val_acc: 0.8455\n",
      "Epoch 17/200\n",
      "52/52 [==============================] - 1s 18ms/step - loss: 0.5528 - acc: 0.8034 - val_loss: 0.4336 - val_acc: 0.8455\n",
      "Epoch 18/200\n",
      "52/52 [==============================] - 1s 18ms/step - loss: 0.5497 - acc: 0.8156 - val_loss: 0.4531 - val_acc: 0.8455\n",
      "Epoch 19/200\n",
      "52/52 [==============================] - 1s 18ms/step - loss: 0.5789 - acc: 0.7985 - val_loss: 0.4377 - val_acc: 0.8455\n",
      "Epoch 20/200\n",
      "52/52 [==============================] - 1s 19ms/step - loss: 0.5168 - acc: 0.8156 - val_loss: 0.4506 - val_acc: 0.8455\n",
      "Epoch 21/200\n",
      "52/52 [==============================] - 1s 18ms/step - loss: 0.6047 - acc: 0.8010 - val_loss: 0.4463 - val_acc: 0.8455\n",
      "Epoch 22/200\n",
      "52/52 [==============================] - 1s 18ms/step - loss: 0.5288 - acc: 0.8303 - val_loss: 0.4582 - val_acc: 0.8455\n",
      "Epoch 23/200\n",
      "52/52 [==============================] - 1s 18ms/step - loss: 0.5644 - acc: 0.8071 - val_loss: 0.4569 - val_acc: 0.8455\n",
      "Epoch 24/200\n",
      "52/52 [==============================] - 1s 18ms/step - loss: 0.5661 - acc: 0.8156 - val_loss: 0.4459 - val_acc: 0.8455\n",
      "Epoch 25/200\n",
      "52/52 [==============================] - 1s 18ms/step - loss: 0.5566 - acc: 0.8168 - val_loss: 0.4505 - val_acc: 0.8455\n",
      "Epoch 26/200\n",
      "52/52 [==============================] - 1s 18ms/step - loss: 0.5331 - acc: 0.8254 - val_loss: 0.4534 - val_acc: 0.8455\n",
      "Epoch 27/200\n",
      "52/52 [==============================] - 1s 18ms/step - loss: 0.5492 - acc: 0.8278 - val_loss: 0.4626 - val_acc: 0.8455\n",
      "Epoch 28/200\n",
      "52/52 [==============================] - 1s 18ms/step - loss: 0.5560 - acc: 0.8120 - val_loss: 0.4471 - val_acc: 0.8455\n",
      "Epoch 29/200\n",
      "52/52 [==============================] - 1s 18ms/step - loss: 0.5454 - acc: 0.8156 - val_loss: 0.4574 - val_acc: 0.8455\n",
      "Epoch 30/200\n",
      "52/52 [==============================] - 1s 18ms/step - loss: 0.5344 - acc: 0.8107 - val_loss: 0.4503 - val_acc: 0.8455\n",
      "Epoch 31/200\n",
      "52/52 [==============================] - 1s 18ms/step - loss: 0.5312 - acc: 0.8230 - val_loss: 0.4602 - val_acc: 0.8455\n",
      "Epoch 32/200\n",
      "52/52 [==============================] - 1s 18ms/step - loss: 0.5194 - acc: 0.8254 - val_loss: 0.4726 - val_acc: 0.8455\n",
      "Epoch 33/200\n",
      "52/52 [==============================] - 1s 18ms/step - loss: 0.5239 - acc: 0.8107 - val_loss: 0.4557 - val_acc: 0.8455\n",
      "Epoch 34/200\n",
      "52/52 [==============================] - 1s 18ms/step - loss: 0.5193 - acc: 0.8254 - val_loss: 0.4495 - val_acc: 0.8455\n",
      "Epoch 35/200\n",
      "52/52 [==============================] - 1s 18ms/step - loss: 0.5158 - acc: 0.8278 - val_loss: 0.4831 - val_acc: 0.8455\n",
      "Epoch 36/200\n",
      "52/52 [==============================] - 1s 18ms/step - loss: 0.5076 - acc: 0.8193 - val_loss: 0.4469 - val_acc: 0.8455\n",
      "Epoch 37/200\n",
      "52/52 [==============================] - 1s 18ms/step - loss: 0.5569 - acc: 0.8230 - val_loss: 0.4554 - val_acc: 0.8455\n",
      "Epoch 38/200\n",
      "52/52 [==============================] - 1s 18ms/step - loss: 0.5293 - acc: 0.8181 - val_loss: 0.4526 - val_acc: 0.8455\n",
      "Epoch 39/200\n",
      "52/52 [==============================] - 1s 18ms/step - loss: 0.4991 - acc: 0.8168 - val_loss: 0.4560 - val_acc: 0.8455\n",
      "Epoch 40/200\n",
      "52/52 [==============================] - 1s 18ms/step - loss: 0.4911 - acc: 0.8230 - val_loss: 0.4602 - val_acc: 0.8455\n",
      "Epoch 41/200\n",
      "52/52 [==============================] - 1s 18ms/step - loss: 0.5292 - acc: 0.8181 - val_loss: 0.4667 - val_acc: 0.8455\n",
      "Epoch 42/200\n",
      "52/52 [==============================] - 1s 18ms/step - loss: 0.5059 - acc: 0.8230 - val_loss: 0.4479 - val_acc: 0.8455\n",
      "Epoch 43/200\n",
      "52/52 [==============================] - 1s 18ms/step - loss: 0.5292 - acc: 0.8278 - val_loss: 0.4500 - val_acc: 0.8455\n",
      "Epoch 44/200\n",
      "52/52 [==============================] - 1s 18ms/step - loss: 0.4932 - acc: 0.8278 - val_loss: 0.4492 - val_acc: 0.8455\n",
      "Epoch 45/200\n",
      "52/52 [==============================] - 1s 18ms/step - loss: 0.4917 - acc: 0.8315 - val_loss: 0.4649 - val_acc: 0.8455\n",
      "Epoch 46/200\n",
      "52/52 [==============================] - 1s 18ms/step - loss: 0.5133 - acc: 0.8254 - val_loss: 0.4576 - val_acc: 0.8455\n",
      "Epoch 47/200\n",
      "52/52 [==============================] - 1s 18ms/step - loss: 0.5119 - acc: 0.8266 - val_loss: 0.4505 - val_acc: 0.8455\n",
      "Epoch 48/200\n",
      "52/52 [==============================] - 1s 18ms/step - loss: 0.4981 - acc: 0.8327 - val_loss: 0.4596 - val_acc: 0.8455\n",
      "Epoch 49/200\n",
      "52/52 [==============================] - 1s 18ms/step - loss: 0.5050 - acc: 0.8254 - val_loss: 0.4506 - val_acc: 0.8455\n",
      "Epoch 50/200\n",
      "52/52 [==============================] - 1s 18ms/step - loss: 0.4727 - acc: 0.8388 - val_loss: 0.4550 - val_acc: 0.8455\n",
      "Epoch 51/200\n",
      "52/52 [==============================] - 1s 18ms/step - loss: 0.4948 - acc: 0.8327 - val_loss: 0.4807 - val_acc: 0.8455\n",
      "Epoch 52/200\n",
      "52/52 [==============================] - 1s 18ms/step - loss: 0.4864 - acc: 0.8352 - val_loss: 0.4642 - val_acc: 0.8455\n",
      "Epoch 53/200\n",
      "52/52 [==============================] - 1s 18ms/step - loss: 0.4949 - acc: 0.8278 - val_loss: 0.4557 - val_acc: 0.8455\n",
      "Epoch 54/200\n",
      "52/52 [==============================] - 1s 18ms/step - loss: 0.4965 - acc: 0.8303 - val_loss: 0.4501 - val_acc: 0.8455\n",
      "Epoch 55/200\n",
      "52/52 [==============================] - 1s 18ms/step - loss: 0.4661 - acc: 0.8376 - val_loss: 0.4557 - val_acc: 0.8455\n",
      "Epoch 56/200\n",
      "40/52 [======================>.......] - ETA: 0s - loss: 0.4954 - acc: 0.8250"
     ]
    },
    {
     "ename": "KeyboardInterrupt",
     "evalue": "",
     "output_type": "error",
     "traceback": [
      "\u001b[0;31m---------------------------------------------------------------------------\u001b[0m",
      "\u001b[0;31mKeyboardInterrupt\u001b[0m                         Traceback (most recent call last)",
      "\u001b[1;32m/workspace/final _ica_ppg_ecg_1Dconv.ipynb Cell 121\u001b[0m in \u001b[0;36m<cell line: 1>\u001b[0;34m()\u001b[0m\n\u001b[0;32m----> <a href='vscode-notebook-cell://attached-container%2B7b22636f6e7461696e65724e616d65223a222f766974616c227d/workspace/final%20_ica_ppg_ecg_1Dconv.ipynb#Y145sdnNjb2RlLXJlbW90ZQ%3D%3D?line=0'>1</a>\u001b[0m history \u001b[39m=\u001b[39m model\u001b[39m.\u001b[39;49mfit(X_train, y_train_ohe, batch_size \u001b[39m=\u001b[39;49m \u001b[39m16\u001b[39;49m, epochs\u001b[39m=\u001b[39;49m\u001b[39m200\u001b[39;49m, validation_data\u001b[39m=\u001b[39;49m(X_valid, y_valid_ohe))\n",
      "File \u001b[0;32m/usr/local/lib/python3.8/dist-packages/keras/utils/traceback_utils.py:64\u001b[0m, in \u001b[0;36mfilter_traceback.<locals>.error_handler\u001b[0;34m(*args, **kwargs)\u001b[0m\n\u001b[1;32m     62\u001b[0m filtered_tb \u001b[39m=\u001b[39m \u001b[39mNone\u001b[39;00m\n\u001b[1;32m     63\u001b[0m \u001b[39mtry\u001b[39;00m:\n\u001b[0;32m---> 64\u001b[0m   \u001b[39mreturn\u001b[39;00m fn(\u001b[39m*\u001b[39;49margs, \u001b[39m*\u001b[39;49m\u001b[39m*\u001b[39;49mkwargs)\n\u001b[1;32m     65\u001b[0m \u001b[39mexcept\u001b[39;00m \u001b[39mException\u001b[39;00m \u001b[39mas\u001b[39;00m e:  \u001b[39m# pylint: disable=broad-except\u001b[39;00m\n\u001b[1;32m     66\u001b[0m   filtered_tb \u001b[39m=\u001b[39m _process_traceback_frames(e\u001b[39m.\u001b[39m__traceback__)\n",
      "File \u001b[0;32m/usr/local/lib/python3.8/dist-packages/keras/engine/training.py:1384\u001b[0m, in \u001b[0;36mModel.fit\u001b[0;34m(self, x, y, batch_size, epochs, verbose, callbacks, validation_split, validation_data, shuffle, class_weight, sample_weight, initial_epoch, steps_per_epoch, validation_steps, validation_batch_size, validation_freq, max_queue_size, workers, use_multiprocessing)\u001b[0m\n\u001b[1;32m   1377\u001b[0m \u001b[39mwith\u001b[39;00m tf\u001b[39m.\u001b[39mprofiler\u001b[39m.\u001b[39mexperimental\u001b[39m.\u001b[39mTrace(\n\u001b[1;32m   1378\u001b[0m     \u001b[39m'\u001b[39m\u001b[39mtrain\u001b[39m\u001b[39m'\u001b[39m,\n\u001b[1;32m   1379\u001b[0m     epoch_num\u001b[39m=\u001b[39mepoch,\n\u001b[1;32m   1380\u001b[0m     step_num\u001b[39m=\u001b[39mstep,\n\u001b[1;32m   1381\u001b[0m     batch_size\u001b[39m=\u001b[39mbatch_size,\n\u001b[1;32m   1382\u001b[0m     _r\u001b[39m=\u001b[39m\u001b[39m1\u001b[39m):\n\u001b[1;32m   1383\u001b[0m   callbacks\u001b[39m.\u001b[39mon_train_batch_begin(step)\n\u001b[0;32m-> 1384\u001b[0m   tmp_logs \u001b[39m=\u001b[39m \u001b[39mself\u001b[39;49m\u001b[39m.\u001b[39;49mtrain_function(iterator)\n\u001b[1;32m   1385\u001b[0m   \u001b[39mif\u001b[39;00m data_handler\u001b[39m.\u001b[39mshould_sync:\n\u001b[1;32m   1386\u001b[0m     context\u001b[39m.\u001b[39masync_wait()\n",
      "File \u001b[0;32m/usr/local/lib/python3.8/dist-packages/tensorflow/python/util/traceback_utils.py:150\u001b[0m, in \u001b[0;36mfilter_traceback.<locals>.error_handler\u001b[0;34m(*args, **kwargs)\u001b[0m\n\u001b[1;32m    148\u001b[0m filtered_tb \u001b[39m=\u001b[39m \u001b[39mNone\u001b[39;00m\n\u001b[1;32m    149\u001b[0m \u001b[39mtry\u001b[39;00m:\n\u001b[0;32m--> 150\u001b[0m   \u001b[39mreturn\u001b[39;00m fn(\u001b[39m*\u001b[39;49margs, \u001b[39m*\u001b[39;49m\u001b[39m*\u001b[39;49mkwargs)\n\u001b[1;32m    151\u001b[0m \u001b[39mexcept\u001b[39;00m \u001b[39mException\u001b[39;00m \u001b[39mas\u001b[39;00m e:\n\u001b[1;32m    152\u001b[0m   filtered_tb \u001b[39m=\u001b[39m _process_traceback_frames(e\u001b[39m.\u001b[39m__traceback__)\n",
      "File \u001b[0;32m/usr/local/lib/python3.8/dist-packages/tensorflow/python/eager/def_function.py:915\u001b[0m, in \u001b[0;36mFunction.__call__\u001b[0;34m(self, *args, **kwds)\u001b[0m\n\u001b[1;32m    912\u001b[0m compiler \u001b[39m=\u001b[39m \u001b[39m\"\u001b[39m\u001b[39mxla\u001b[39m\u001b[39m\"\u001b[39m \u001b[39mif\u001b[39;00m \u001b[39mself\u001b[39m\u001b[39m.\u001b[39m_jit_compile \u001b[39melse\u001b[39;00m \u001b[39m\"\u001b[39m\u001b[39mnonXla\u001b[39m\u001b[39m\"\u001b[39m\n\u001b[1;32m    914\u001b[0m \u001b[39mwith\u001b[39;00m OptionalXlaContext(\u001b[39mself\u001b[39m\u001b[39m.\u001b[39m_jit_compile):\n\u001b[0;32m--> 915\u001b[0m   result \u001b[39m=\u001b[39m \u001b[39mself\u001b[39;49m\u001b[39m.\u001b[39;49m_call(\u001b[39m*\u001b[39;49margs, \u001b[39m*\u001b[39;49m\u001b[39m*\u001b[39;49mkwds)\n\u001b[1;32m    917\u001b[0m new_tracing_count \u001b[39m=\u001b[39m \u001b[39mself\u001b[39m\u001b[39m.\u001b[39mexperimental_get_tracing_count()\n\u001b[1;32m    918\u001b[0m without_tracing \u001b[39m=\u001b[39m (tracing_count \u001b[39m==\u001b[39m new_tracing_count)\n",
      "File \u001b[0;32m/usr/local/lib/python3.8/dist-packages/tensorflow/python/eager/def_function.py:947\u001b[0m, in \u001b[0;36mFunction._call\u001b[0;34m(self, *args, **kwds)\u001b[0m\n\u001b[1;32m    944\u001b[0m   \u001b[39mself\u001b[39m\u001b[39m.\u001b[39m_lock\u001b[39m.\u001b[39mrelease()\n\u001b[1;32m    945\u001b[0m   \u001b[39m# In this case we have created variables on the first call, so we run the\u001b[39;00m\n\u001b[1;32m    946\u001b[0m   \u001b[39m# defunned version which is guaranteed to never create variables.\u001b[39;00m\n\u001b[0;32m--> 947\u001b[0m   \u001b[39mreturn\u001b[39;00m \u001b[39mself\u001b[39;49m\u001b[39m.\u001b[39;49m_stateless_fn(\u001b[39m*\u001b[39;49margs, \u001b[39m*\u001b[39;49m\u001b[39m*\u001b[39;49mkwds)  \u001b[39m# pylint: disable=not-callable\u001b[39;00m\n\u001b[1;32m    948\u001b[0m \u001b[39melif\u001b[39;00m \u001b[39mself\u001b[39m\u001b[39m.\u001b[39m_stateful_fn \u001b[39mis\u001b[39;00m \u001b[39mnot\u001b[39;00m \u001b[39mNone\u001b[39;00m:\n\u001b[1;32m    949\u001b[0m   \u001b[39m# Release the lock early so that multiple threads can perform the call\u001b[39;00m\n\u001b[1;32m    950\u001b[0m   \u001b[39m# in parallel.\u001b[39;00m\n\u001b[1;32m    951\u001b[0m   \u001b[39mself\u001b[39m\u001b[39m.\u001b[39m_lock\u001b[39m.\u001b[39mrelease()\n",
      "File \u001b[0;32m/usr/local/lib/python3.8/dist-packages/tensorflow/python/eager/function.py:2956\u001b[0m, in \u001b[0;36mFunction.__call__\u001b[0;34m(self, *args, **kwargs)\u001b[0m\n\u001b[1;32m   2953\u001b[0m \u001b[39mwith\u001b[39;00m \u001b[39mself\u001b[39m\u001b[39m.\u001b[39m_lock:\n\u001b[1;32m   2954\u001b[0m   (graph_function,\n\u001b[1;32m   2955\u001b[0m    filtered_flat_args) \u001b[39m=\u001b[39m \u001b[39mself\u001b[39m\u001b[39m.\u001b[39m_maybe_define_function(args, kwargs)\n\u001b[0;32m-> 2956\u001b[0m \u001b[39mreturn\u001b[39;00m graph_function\u001b[39m.\u001b[39;49m_call_flat(\n\u001b[1;32m   2957\u001b[0m     filtered_flat_args, captured_inputs\u001b[39m=\u001b[39;49mgraph_function\u001b[39m.\u001b[39;49mcaptured_inputs)\n",
      "File \u001b[0;32m/usr/local/lib/python3.8/dist-packages/tensorflow/python/eager/function.py:1853\u001b[0m, in \u001b[0;36mConcreteFunction._call_flat\u001b[0;34m(self, args, captured_inputs, cancellation_manager)\u001b[0m\n\u001b[1;32m   1849\u001b[0m possible_gradient_type \u001b[39m=\u001b[39m gradients_util\u001b[39m.\u001b[39mPossibleTapeGradientTypes(args)\n\u001b[1;32m   1850\u001b[0m \u001b[39mif\u001b[39;00m (possible_gradient_type \u001b[39m==\u001b[39m gradients_util\u001b[39m.\u001b[39mPOSSIBLE_GRADIENT_TYPES_NONE\n\u001b[1;32m   1851\u001b[0m     \u001b[39mand\u001b[39;00m executing_eagerly):\n\u001b[1;32m   1852\u001b[0m   \u001b[39m# No tape is watching; skip to running the function.\u001b[39;00m\n\u001b[0;32m-> 1853\u001b[0m   \u001b[39mreturn\u001b[39;00m \u001b[39mself\u001b[39m\u001b[39m.\u001b[39m_build_call_outputs(\u001b[39mself\u001b[39;49m\u001b[39m.\u001b[39;49m_inference_function\u001b[39m.\u001b[39;49mcall(\n\u001b[1;32m   1854\u001b[0m       ctx, args, cancellation_manager\u001b[39m=\u001b[39;49mcancellation_manager))\n\u001b[1;32m   1855\u001b[0m forward_backward \u001b[39m=\u001b[39m \u001b[39mself\u001b[39m\u001b[39m.\u001b[39m_select_forward_and_backward_functions(\n\u001b[1;32m   1856\u001b[0m     args,\n\u001b[1;32m   1857\u001b[0m     possible_gradient_type,\n\u001b[1;32m   1858\u001b[0m     executing_eagerly)\n\u001b[1;32m   1859\u001b[0m forward_function, args_with_tangents \u001b[39m=\u001b[39m forward_backward\u001b[39m.\u001b[39mforward()\n",
      "File \u001b[0;32m/usr/local/lib/python3.8/dist-packages/tensorflow/python/eager/function.py:499\u001b[0m, in \u001b[0;36m_EagerDefinedFunction.call\u001b[0;34m(self, ctx, args, cancellation_manager)\u001b[0m\n\u001b[1;32m    497\u001b[0m \u001b[39mwith\u001b[39;00m _InterpolateFunctionError(\u001b[39mself\u001b[39m):\n\u001b[1;32m    498\u001b[0m   \u001b[39mif\u001b[39;00m cancellation_manager \u001b[39mis\u001b[39;00m \u001b[39mNone\u001b[39;00m:\n\u001b[0;32m--> 499\u001b[0m     outputs \u001b[39m=\u001b[39m execute\u001b[39m.\u001b[39;49mexecute(\n\u001b[1;32m    500\u001b[0m         \u001b[39mstr\u001b[39;49m(\u001b[39mself\u001b[39;49m\u001b[39m.\u001b[39;49msignature\u001b[39m.\u001b[39;49mname),\n\u001b[1;32m    501\u001b[0m         num_outputs\u001b[39m=\u001b[39;49m\u001b[39mself\u001b[39;49m\u001b[39m.\u001b[39;49m_num_outputs,\n\u001b[1;32m    502\u001b[0m         inputs\u001b[39m=\u001b[39;49margs,\n\u001b[1;32m    503\u001b[0m         attrs\u001b[39m=\u001b[39;49mattrs,\n\u001b[1;32m    504\u001b[0m         ctx\u001b[39m=\u001b[39;49mctx)\n\u001b[1;32m    505\u001b[0m   \u001b[39melse\u001b[39;00m:\n\u001b[1;32m    506\u001b[0m     outputs \u001b[39m=\u001b[39m execute\u001b[39m.\u001b[39mexecute_with_cancellation(\n\u001b[1;32m    507\u001b[0m         \u001b[39mstr\u001b[39m(\u001b[39mself\u001b[39m\u001b[39m.\u001b[39msignature\u001b[39m.\u001b[39mname),\n\u001b[1;32m    508\u001b[0m         num_outputs\u001b[39m=\u001b[39m\u001b[39mself\u001b[39m\u001b[39m.\u001b[39m_num_outputs,\n\u001b[0;32m   (...)\u001b[0m\n\u001b[1;32m    511\u001b[0m         ctx\u001b[39m=\u001b[39mctx,\n\u001b[1;32m    512\u001b[0m         cancellation_manager\u001b[39m=\u001b[39mcancellation_manager)\n",
      "File \u001b[0;32m/usr/local/lib/python3.8/dist-packages/tensorflow/python/eager/execute.py:54\u001b[0m, in \u001b[0;36mquick_execute\u001b[0;34m(op_name, num_outputs, inputs, attrs, ctx, name)\u001b[0m\n\u001b[1;32m     52\u001b[0m \u001b[39mtry\u001b[39;00m:\n\u001b[1;32m     53\u001b[0m   ctx\u001b[39m.\u001b[39mensure_initialized()\n\u001b[0;32m---> 54\u001b[0m   tensors \u001b[39m=\u001b[39m pywrap_tfe\u001b[39m.\u001b[39;49mTFE_Py_Execute(ctx\u001b[39m.\u001b[39;49m_handle, device_name, op_name,\n\u001b[1;32m     55\u001b[0m                                       inputs, attrs, num_outputs)\n\u001b[1;32m     56\u001b[0m \u001b[39mexcept\u001b[39;00m core\u001b[39m.\u001b[39m_NotOkStatusException \u001b[39mas\u001b[39;00m e:\n\u001b[1;32m     57\u001b[0m   \u001b[39mif\u001b[39;00m name \u001b[39mis\u001b[39;00m \u001b[39mnot\u001b[39;00m \u001b[39mNone\u001b[39;00m:\n",
      "\u001b[0;31mKeyboardInterrupt\u001b[0m: "
     ]
    },
    {
     "ename": "",
     "evalue": "",
     "output_type": "error",
     "traceback": [
      "\u001b[1;31mThe Kernel crashed while executing code in the the current cell or a previous cell. Please review the code in the cell(s) to identify a possible cause of the failure. Click <a href='https://aka.ms/vscodeJupyterKernelCrash'>here</a> for more info. View Jupyter <a href='command:jupyter.viewOutput'>log</a> for further details."
     ]
    }
   ],
   "source": [
    "history = model.fit(X_train, y_train_ohe, batch_size = 16, epochs=200, validation_data=(X_valid, y_valid_ohe))"
   ]
  },
  {
   "cell_type": "code",
   "execution_count": 71,
   "metadata": {},
   "outputs": [
    {
     "data": {
      "image/png": "[encoded data removed]",
      "text/plain": [
       "<Figure size 432x288 with 2 Axes>"
      ]
     },
     "metadata": {
      "needs_background": "light"
     },
     "output_type": "display_data"
    }
   ],
   "source": [
    "import matplotlib.pyplot as plt\n",
    "\n",
    "fig, loss_ax = plt.subplots()\n",
    "acc_ax = loss_ax.twinx()\n",
    "\n",
    "loss_ax.plot(history.history['loss'], 'y', label='train loss')\n",
    "loss_ax.plot(history.history['val_loss'], 'r', label='val loss')\n",
    "loss_ax.set_xlabel('epoch')\n",
    "loss_ax.set_ylabel('loss')\n",
    "loss_ax.legend(loc='upper left')\n",
    "\n",
    "acc_ax.plot(history.history['acc'], 'b', label='train acc')\n",
    "acc_ax.plot(history.history['val_acc'], 'g', label='val acc')\n",
    "acc_ax.set_ylabel('accuracy')\n",
    "acc_ax.legend(loc='upper right')\n",
    "\n",
    "plt.show()"
   ]
  },
  {
   "cell_type": "code",
   "execution_count": null,
   "metadata": {},
   "outputs": [],
   "source": []
  }
 ],
 "metadata": {
  "kernelspec": {
   "display_name": "Python 3.8.10 64-bit",
   "language": "python",
   "name": "python3"
  },
  "language_info": {
   "codemirror_mode": {
    "name": "ipython",
    "version": 3
   },
   "file_extension": ".py",
   "mimetype": "text/x-python",
   "name": "python",
   "nbconvert_exporter": "python",
   "pygments_lexer": "ipython3",
   "version": "3.8.10"
  },
  "orig_nbformat": 4,
  "vscode": {
   "interpreter": {
    "hash": "916dbcbb3f70747c44a77c7bcd40155683ae19c65e1c03b4aa3499c5328201f1"
   }
  }
 },
 "nbformat": 4,
 "nbformat_minor": 2
}
